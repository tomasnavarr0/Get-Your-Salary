{
 "cells": [
  {
   "cell_type": "code",
   "execution_count": 1,
   "id": "f838dec6",
   "metadata": {},
   "outputs": [],
   "source": [
    "import os\n",
    "os.chdir(\"../\")"
   ]
  },
  {
   "cell_type": "code",
   "execution_count": 2,
   "id": "854b9799",
   "metadata": {},
   "outputs": [],
   "source": [
    "from app.db import DBManager, DBService\n",
    "from app.settings import Settings\n",
    "from app.db.models import PredictModel, SalaryRequestModel"
   ]
  },
  {
   "cell_type": "code",
   "execution_count": 3,
   "id": "ec69ce53",
   "metadata": {},
   "outputs": [],
   "source": [
    "db_manager = DBManager()"
   ]
  },
  {
   "cell_type": "code",
   "execution_count": 4,
   "id": "f11e9418",
   "metadata": {},
   "outputs": [
    {
     "data": {
      "text/plain": [
       "'Tables created successfully'"
      ]
     },
     "execution_count": 4,
     "metadata": {},
     "output_type": "execute_result"
    }
   ],
   "source": [
    "db_manager.create_tables()"
   ]
  },
  {
   "cell_type": "code",
   "execution_count": 3,
   "id": "e8a04c67",
   "metadata": {},
   "outputs": [],
   "source": [
    "db_service = DBService()"
   ]
  },
  {
   "cell_type": "code",
   "execution_count": 4,
   "id": "a9fb2ec4",
   "metadata": {},
   "outputs": [],
   "source": [
    "from polyfactory.factories.pydantic_factory import ModelFactory\n",
    "from app.data_models import SalaryRequest\n",
    "\n",
    "\n",
    "class SalaryRequestFactory(ModelFactory[SalaryRequest]):\n",
    "    ...\n",
    "\n",
    "\n",
    "def salary_request() -> SalaryRequest:\n",
    "    return SalaryRequestFactory.build()\n",
    "\n"
   ]
  },
  {
   "cell_type": "code",
   "execution_count": 5,
   "id": "fe18845f",
   "metadata": {},
   "outputs": [],
   "source": [
    "salary_request = salary_request()"
   ]
  },
  {
   "cell_type": "code",
   "execution_count": 6,
   "id": "37f04d13",
   "metadata": {},
   "outputs": [],
   "source": [
    "srm = SalaryRequestModel(**salary_request.model_dump())"
   ]
  },
  {
   "cell_type": "code",
   "execution_count": 7,
   "id": "b95ab854",
   "metadata": {},
   "outputs": [
    {
     "name": "stdout",
     "output_type": "stream",
     "text": [
      "2025-04-26 16:52:17,493 INFO sqlalchemy.engine.Engine SELECT DATABASE()\n",
      "2025-04-26 16:52:17,494 INFO sqlalchemy.engine.Engine [raw sql] ()\n",
      "2025-04-26 16:52:17,908 INFO sqlalchemy.engine.Engine SELECT @@sql_mode\n",
      "2025-04-26 16:52:17,910 INFO sqlalchemy.engine.Engine [raw sql] ()\n",
      "2025-04-26 16:52:18,120 INFO sqlalchemy.engine.Engine SELECT @@lower_case_table_names\n",
      "2025-04-26 16:52:18,122 INFO sqlalchemy.engine.Engine [raw sql] ()\n",
      "2025-04-26 16:52:18,542 INFO sqlalchemy.engine.Engine BEGIN (implicit)\n",
      "2025-04-26 16:52:18,548 INFO sqlalchemy.engine.Engine INSERT INTO salary_requests (dedicacion, contrato, cantidad_de_personas_en_tu_organizacion, modalidad_de_trabajo, seniority, marvin_rol, anos_de_experiencia, antiguedad_en_la_empresa_actual, anos_en_el_puesto_actual, cuantas_personas_tenes_a_cargo, edad, date, username) VALUES (%s, %s, %s, %s, %s, %s, %s, %s, %s, %s, %s, %s, %s)\n",
      "2025-04-26 16:52:18,549 INFO sqlalchemy.engine.Engine [generated in 0.00206s] ('Part-Time', 'Contractor', 'De 11 a 50 personas', 'Híbrido (presencial y remoto)', 'Manager or Above', 7, 17, 19, 33, 29, 29, datetime.datetime(2025, 4, 26, 16, 52, 16, 42603, tzinfo=datetime.timezone.utc), None)\n",
      "2025-04-26 16:52:18,768 INFO sqlalchemy.engine.Engine COMMIT\n",
      "2025-04-26 16:52:19,397 INFO sqlalchemy.engine.Engine BEGIN (implicit)\n",
      "2025-04-26 16:52:19,404 INFO sqlalchemy.engine.Engine SELECT salary_requests.id, salary_requests.dedicacion, salary_requests.contrato, salary_requests.cantidad_de_personas_en_tu_organizacion, salary_requests.modalidad_de_trabajo, salary_requests.seniority, salary_requests.marvin_rol, salary_requests.anos_de_experiencia, salary_requests.antiguedad_en_la_empresa_actual, salary_requests.anos_en_el_puesto_actual, salary_requests.cuantas_personas_tenes_a_cargo, salary_requests.edad, salary_requests.date, salary_requests.username \n",
      "FROM salary_requests \n",
      "WHERE salary_requests.id = %s\n",
      "2025-04-26 16:52:19,406 INFO sqlalchemy.engine.Engine [generated in 0.00213s] (9,)\n",
      "2025-04-26 16:52:19,613 INFO sqlalchemy.engine.Engine ROLLBACK\n"
     ]
    },
    {
     "data": {
      "text/plain": [
       "9"
      ]
     },
     "execution_count": 7,
     "metadata": {},
     "output_type": "execute_result"
    }
   ],
   "source": [
    "\n",
    "await db_service.add_data(srm)"
   ]
  },
  {
   "cell_type": "code",
   "execution_count": 8,
   "id": "de0e560e",
   "metadata": {},
   "outputs": [
    {
     "name": "stdout",
     "output_type": "stream",
     "text": [
      "2025-04-26 16:52:21,331 INFO sqlalchemy.engine.Engine SELECT DATABASE()\n",
      "2025-04-26 16:52:21,336 INFO sqlalchemy.engine.Engine [raw sql] ()\n",
      "2025-04-26 16:52:21,760 INFO sqlalchemy.engine.Engine SELECT @@sql_mode\n",
      "2025-04-26 16:52:21,762 INFO sqlalchemy.engine.Engine [raw sql] ()\n",
      "2025-04-26 16:52:21,971 INFO sqlalchemy.engine.Engine SELECT @@lower_case_table_names\n",
      "2025-04-26 16:52:21,972 INFO sqlalchemy.engine.Engine [raw sql] ()\n",
      "2025-04-26 16:52:22,387 INFO sqlalchemy.engine.Engine BEGIN (implicit)\n",
      "2025-04-26 16:52:22,392 INFO sqlalchemy.engine.Engine SELECT salary_requests.id, salary_requests.dedicacion, salary_requests.contrato, salary_requests.cantidad_de_personas_en_tu_organizacion, salary_requests.modalidad_de_trabajo, salary_requests.seniority, salary_requests.marvin_rol, salary_requests.anos_de_experiencia, salary_requests.antiguedad_en_la_empresa_actual, salary_requests.anos_en_el_puesto_actual, salary_requests.cuantas_personas_tenes_a_cargo, salary_requests.edad, salary_requests.date, salary_requests.username \n",
      "FROM salary_requests \n",
      "WHERE salary_requests.id = %s\n",
      "2025-04-26 16:52:22,393 INFO sqlalchemy.engine.Engine [generated in 0.00162s] (1,)\n",
      "2025-04-26 16:52:22,604 INFO sqlalchemy.engine.Engine ROLLBACK\n"
     ]
    },
    {
     "data": {
      "text/plain": [
       "[SalaryRequestModel(id=1, cantidad_de_personas_en_tu_organizacion='De 5001 a 10000 personas', seniority='Manager or Above', anos_de_experiencia=39, anos_en_el_puesto_actual=19, edad=48, username=None, contrato='Staff (planta permanente)', dedicacion='Part-Time', modalidad_de_trabajo='100% presencial', marvin_rol='1', antiguedad_en_la_empresa_actual=42, cuantas_personas_tenes_a_cargo=28, date=datetime.datetime(2025, 4, 26, 0, 24, 13))]"
      ]
     },
     "execution_count": 8,
     "metadata": {},
     "output_type": "execute_result"
    }
   ],
   "source": [
    "await db_service.get_data(1, SalaryRequestModel)"
   ]
  },
  {
   "cell_type": "code",
   "execution_count": 9,
   "id": "7079ba59",
   "metadata": {},
   "outputs": [
    {
     "name": "stdout",
     "output_type": "stream",
     "text": [
      "2025-04-26 16:52:24,312 INFO sqlalchemy.engine.Engine SELECT DATABASE()\n",
      "2025-04-26 16:52:24,314 INFO sqlalchemy.engine.Engine [raw sql] ()\n",
      "2025-04-26 16:52:24,721 INFO sqlalchemy.engine.Engine SELECT @@sql_mode\n",
      "2025-04-26 16:52:24,723 INFO sqlalchemy.engine.Engine [raw sql] ()\n",
      "2025-04-26 16:52:24,923 INFO sqlalchemy.engine.Engine SELECT @@lower_case_table_names\n",
      "2025-04-26 16:52:24,924 INFO sqlalchemy.engine.Engine [raw sql] ()\n",
      "2025-04-26 16:52:25,322 INFO sqlalchemy.engine.Engine BEGIN (implicit)\n",
      "2025-04-26 16:52:25,327 INFO sqlalchemy.engine.Engine SELECT salary_requests.id, salary_requests.dedicacion, salary_requests.contrato, salary_requests.cantidad_de_personas_en_tu_organizacion, salary_requests.modalidad_de_trabajo, salary_requests.seniority, salary_requests.marvin_rol, salary_requests.anos_de_experiencia, salary_requests.antiguedad_en_la_empresa_actual, salary_requests.anos_en_el_puesto_actual, salary_requests.cuantas_personas_tenes_a_cargo, salary_requests.edad, salary_requests.date, salary_requests.username \n",
      "FROM salary_requests\n",
      "2025-04-26 16:52:25,329 INFO sqlalchemy.engine.Engine [generated in 0.00205s] ()\n",
      "2025-04-26 16:52:25,536 INFO sqlalchemy.engine.Engine ROLLBACK\n"
     ]
    },
    {
     "data": {
      "text/plain": [
       "[SalaryRequestModel(id=1, cantidad_de_personas_en_tu_organizacion='De 5001 a 10000 personas', seniority='Manager or Above', anos_de_experiencia=39, anos_en_el_puesto_actual=19, edad=48, username=None, contrato='Staff (planta permanente)', dedicacion='Part-Time', modalidad_de_trabajo='100% presencial', marvin_rol='1', antiguedad_en_la_empresa_actual=42, cuantas_personas_tenes_a_cargo=28, date=datetime.datetime(2025, 4, 26, 0, 24, 13)),\n",
       " SalaryRequestModel(id=2, cantidad_de_personas_en_tu_organizacion='De 11 a 50 personas', seniority='Semi-Senior', anos_de_experiencia=3, anos_en_el_puesto_actual=1, edad=30, username='Nava', contrato='Staff (planta permanente)', dedicacion='Full-Time', modalidad_de_trabajo='100% remoto', marvin_rol='1', antiguedad_en_la_empresa_actual=2, cuantas_personas_tenes_a_cargo=0, date=datetime.datetime(2025, 4, 26, 2, 6, 26)),\n",
       " SalaryRequestModel(id=3, cantidad_de_personas_en_tu_organizacion='Más de 10000 personas', seniority='Manager or Above', anos_de_experiencia=9, anos_en_el_puesto_actual=5, edad=27, username='Tomas Navarro', contrato='Staff (planta permanente)', dedicacion='Full-Time', modalidad_de_trabajo='100% remoto', marvin_rol='4', antiguedad_en_la_empresa_actual=6, cuantas_personas_tenes_a_cargo=5, date=datetime.datetime(2025, 4, 26, 2, 9, 10)),\n",
       " SalaryRequestModel(id=4, cantidad_de_personas_en_tu_organizacion='Más de 10000 personas', seniority='Manager or Above', anos_de_experiencia=9, anos_en_el_puesto_actual=16, edad=27, username='Tomas Navarro', contrato='Staff (planta permanente)', dedicacion='Full-Time', modalidad_de_trabajo='100% remoto', marvin_rol='4', antiguedad_en_la_empresa_actual=6, cuantas_personas_tenes_a_cargo=5, date=datetime.datetime(2025, 4, 26, 2, 9, 29)),\n",
       " SalaryRequestModel(id=5, cantidad_de_personas_en_tu_organizacion='Más de 10000 personas', seniority='Manager or Above', anos_de_experiencia=9, anos_en_el_puesto_actual=16, edad=27, username='Tomas Navarro', contrato='Staff (planta permanente)', dedicacion='Full-Time', modalidad_de_trabajo='100% remoto', marvin_rol='4', antiguedad_en_la_empresa_actual=6, cuantas_personas_tenes_a_cargo=27, date=datetime.datetime(2025, 4, 26, 2, 9, 51)),\n",
       " SalaryRequestModel(id=6, cantidad_de_personas_en_tu_organizacion='Más de 10000 personas', seniority='Manager or Above', anos_de_experiencia=9, anos_en_el_puesto_actual=16, edad=27, username='Tomas Navarro', contrato='Staff (planta permanente)', dedicacion='Full-Time', modalidad_de_trabajo='100% remoto', marvin_rol='4', antiguedad_en_la_empresa_actual=6, cuantas_personas_tenes_a_cargo=78, date=datetime.datetime(2025, 4, 26, 2, 10, 27)),\n",
       " SalaryRequestModel(id=7, cantidad_de_personas_en_tu_organizacion='De 5001 a 10000 personas', seniority='Senior', anos_de_experiencia=12, anos_en_el_puesto_actual=5, edad=30, username='Tomas Navarro Miñón', contrato='Staff (planta permanente)', dedicacion='Full-Time', modalidad_de_trabajo='100% remoto', marvin_rol='7', antiguedad_en_la_empresa_actual=5, cuantas_personas_tenes_a_cargo=0, date=datetime.datetime(2025, 4, 26, 16, 38, 26)),\n",
       " SalaryRequestModel(id=8, cantidad_de_personas_en_tu_organizacion='De 11 a 50 personas', seniority='Semi-Senior', anos_de_experiencia=3, anos_en_el_puesto_actual=1, edad=30, username='Tomas Navarro Miñón', contrato='Staff (planta permanente)', dedicacion='Full-Time', modalidad_de_trabajo='100% remoto', marvin_rol='1', antiguedad_en_la_empresa_actual=2, cuantas_personas_tenes_a_cargo=0, date=datetime.datetime(2025, 4, 26, 16, 49, 39)),\n",
       " SalaryRequestModel(id=9, cantidad_de_personas_en_tu_organizacion='De 11 a 50 personas', seniority='Manager or Above', anos_de_experiencia=17, anos_en_el_puesto_actual=33, edad=29, username=None, contrato='Contractor', dedicacion='Part-Time', modalidad_de_trabajo='Híbrido (presencial y remoto)', marvin_rol='7', antiguedad_en_la_empresa_actual=19, cuantas_personas_tenes_a_cargo=29, date=datetime.datetime(2025, 4, 26, 16, 52, 16))]"
      ]
     },
     "execution_count": 9,
     "metadata": {},
     "output_type": "execute_result"
    }
   ],
   "source": [
    "await db_service.get_all_data(SalaryRequestModel)"
   ]
  },
  {
   "cell_type": "code",
   "execution_count": 10,
   "id": "9dfdfbc9",
   "metadata": {},
   "outputs": [
    {
     "name": "stdout",
     "output_type": "stream",
     "text": [
      "2025-04-26 16:52:27,162 INFO sqlalchemy.engine.Engine SELECT DATABASE()\n",
      "2025-04-26 16:52:27,163 INFO sqlalchemy.engine.Engine [raw sql] ()\n",
      "2025-04-26 16:52:27,567 INFO sqlalchemy.engine.Engine SELECT @@sql_mode\n",
      "2025-04-26 16:52:27,569 INFO sqlalchemy.engine.Engine [raw sql] ()\n",
      "2025-04-26 16:52:27,774 INFO sqlalchemy.engine.Engine SELECT @@lower_case_table_names\n",
      "2025-04-26 16:52:27,776 INFO sqlalchemy.engine.Engine [raw sql] ()\n",
      "2025-04-26 16:52:28,180 INFO sqlalchemy.engine.Engine BEGIN (implicit)\n",
      "2025-04-26 16:52:28,184 INFO sqlalchemy.engine.Engine SELECT salary_requests.id, salary_requests.dedicacion, salary_requests.contrato, salary_requests.cantidad_de_personas_en_tu_organizacion, salary_requests.modalidad_de_trabajo, salary_requests.seniority, salary_requests.marvin_rol, salary_requests.anos_de_experiencia, salary_requests.antiguedad_en_la_empresa_actual, salary_requests.anos_en_el_puesto_actual, salary_requests.cuantas_personas_tenes_a_cargo, salary_requests.edad, salary_requests.date, salary_requests.username \n",
      "FROM salary_requests \n",
      "WHERE salary_requests.id = %s\n",
      "2025-04-26 16:52:28,185 INFO sqlalchemy.engine.Engine [generated in 0.00096s] (1,)\n",
      "2025-04-26 16:52:28,387 INFO sqlalchemy.engine.Engine ROLLBACK\n"
     ]
    },
    {
     "data": {
      "text/plain": [
       "SalaryRequestModel(id=1, cantidad_de_personas_en_tu_organizacion='De 5001 a 10000 personas', seniority='Manager or Above', anos_de_experiencia=39, anos_en_el_puesto_actual=19, edad=48, username=None, contrato='Staff (planta permanente)', dedicacion='Part-Time', modalidad_de_trabajo='100% presencial', marvin_rol='1', antiguedad_en_la_empresa_actual=42, cuantas_personas_tenes_a_cargo=28, date=datetime.datetime(2025, 4, 26, 0, 24, 13))"
      ]
     },
     "execution_count": 10,
     "metadata": {},
     "output_type": "execute_result"
    }
   ],
   "source": [
    "await db_service.get_first_data(1, SalaryRequestModel)"
   ]
  }
 ],
 "metadata": {
  "kernelspec": {
   "display_name": "workspace-dqq3IVyd",
   "language": "python",
   "name": "python3"
  },
  "language_info": {
   "codemirror_mode": {
    "name": "ipython",
    "version": 3
   },
   "file_extension": ".py",
   "mimetype": "text/x-python",
   "name": "python",
   "nbconvert_exporter": "python",
   "pygments_lexer": "ipython3",
   "version": "3.12.10"
  }
 },
 "nbformat": 4,
 "nbformat_minor": 5
}
