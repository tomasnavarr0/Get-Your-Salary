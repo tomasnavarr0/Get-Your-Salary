{
 "cells": [
  {
   "cell_type": "code",
   "execution_count": 1,
   "id": "f838dec6",
   "metadata": {},
   "outputs": [],
   "source": [
    "import os\n",
    "os.chdir(\"../\")"
   ]
  },
  {
   "cell_type": "code",
   "execution_count": 2,
   "id": "854b9799",
   "metadata": {},
   "outputs": [],
   "source": [
    "from app.db import DBManager, DBService\n",
    "from app.settings import Settings\n",
    "from app.db.models import PredictModel, SalaryRequestModel"
   ]
  },
  {
   "cell_type": "code",
   "execution_count": 3,
   "id": "ec69ce53",
   "metadata": {},
   "outputs": [],
   "source": [
    "db_manager = DBManager()"
   ]
  },
  {
   "cell_type": "code",
   "execution_count": 4,
   "id": "f11e9418",
   "metadata": {},
   "outputs": [
    {
     "data": {
      "text/plain": [
       "'Tables created successfully'"
      ]
     },
     "execution_count": 4,
     "metadata": {},
     "output_type": "execute_result"
    }
   ],
   "source": [
    "db_manager.create_tables()"
   ]
  },
  {
   "cell_type": "code",
   "execution_count": 5,
   "id": "e8a04c67",
   "metadata": {},
   "outputs": [],
   "source": [
    "db_service = DBService()"
   ]
  },
  {
   "cell_type": "code",
   "execution_count": 6,
   "id": "a9fb2ec4",
   "metadata": {},
   "outputs": [],
   "source": [
    "from polyfactory.factories.pydantic_factory import ModelFactory\n",
    "from app.data_models import SalaryRequest\n",
    "\n",
    "\n",
    "class SalaryRequestFactory(ModelFactory[SalaryRequest]):\n",
    "    ...\n",
    "\n",
    "\n",
    "def salary_request() -> SalaryRequest:\n",
    "    return SalaryRequestFactory.build()\n",
    "\n"
   ]
  },
  {
   "cell_type": "code",
   "execution_count": 7,
   "id": "fe18845f",
   "metadata": {},
   "outputs": [],
   "source": [
    "salary_request = salary_request()"
   ]
  },
  {
   "cell_type": "code",
   "execution_count": 8,
   "id": "37f04d13",
   "metadata": {},
   "outputs": [],
   "source": [
    "srm = SalaryRequestModel(**salary_request.model_dump())"
   ]
  },
  {
   "cell_type": "code",
   "execution_count": 9,
   "id": "b95ab854",
   "metadata": {},
   "outputs": [
    {
     "name": "stdout",
     "output_type": "stream",
     "text": [
      "2025-04-26 00:24:18,861 INFO sqlalchemy.engine.Engine SELECT DATABASE()\n",
      "2025-04-26 00:24:18,865 INFO sqlalchemy.engine.Engine [raw sql] ()\n",
      "2025-04-26 00:24:19,281 INFO sqlalchemy.engine.Engine SELECT @@sql_mode\n",
      "2025-04-26 00:24:19,286 INFO sqlalchemy.engine.Engine [raw sql] ()\n",
      "2025-04-26 00:24:19,496 INFO sqlalchemy.engine.Engine SELECT @@lower_case_table_names\n",
      "2025-04-26 00:24:19,498 INFO sqlalchemy.engine.Engine [raw sql] ()\n",
      "2025-04-26 00:24:19,908 INFO sqlalchemy.engine.Engine BEGIN (implicit)\n",
      "2025-04-26 00:24:19,911 INFO sqlalchemy.engine.Engine INSERT INTO salary_requests (dedicacion, contrato, cantidad_de_personas_en_tu_organizacion, modalidad_de_trabajo, seniority, marvin_rol, anos_de_experiencia, antiguedad_en_la_empresa_actual, anos_en_el_puesto_actual, cuantas_personas_tenes_a_cargo, edad, date, username) VALUES (%s, %s, %s, %s, %s, %s, %s, %s, %s, %s, %s, %s, %s)\n",
      "2025-04-26 00:24:19,912 INFO sqlalchemy.engine.Engine [generated in 0.00115s] ('Part-Time', 'Staff (planta permanente)', 'De 5001 a 10000 personas', '100% presencial', 'Manager or Above', 1, 39, 42, 19, 28, 48, datetime.datetime(2025, 4, 26, 0, 24, 13, 462362, tzinfo=datetime.timezone.utc), None)\n",
      "2025-04-26 00:24:20,121 INFO sqlalchemy.engine.Engine COMMIT\n",
      "2025-04-26 00:24:20,740 INFO sqlalchemy.engine.Engine BEGIN (implicit)\n",
      "2025-04-26 00:24:20,748 INFO sqlalchemy.engine.Engine SELECT salary_requests.id, salary_requests.dedicacion, salary_requests.contrato, salary_requests.cantidad_de_personas_en_tu_organizacion, salary_requests.modalidad_de_trabajo, salary_requests.seniority, salary_requests.marvin_rol, salary_requests.anos_de_experiencia, salary_requests.antiguedad_en_la_empresa_actual, salary_requests.anos_en_el_puesto_actual, salary_requests.cuantas_personas_tenes_a_cargo, salary_requests.edad, salary_requests.date, salary_requests.username \n",
      "FROM salary_requests \n",
      "WHERE salary_requests.id = %s\n",
      "2025-04-26 00:24:20,750 INFO sqlalchemy.engine.Engine [generated in 0.00219s] (1,)\n",
      "2025-04-26 00:24:20,960 INFO sqlalchemy.engine.Engine ROLLBACK\n"
     ]
    },
    {
     "data": {
      "text/plain": [
       "1"
      ]
     },
     "execution_count": 9,
     "metadata": {},
     "output_type": "execute_result"
    }
   ],
   "source": [
    "\n",
    "await db_service.add_data(srm)"
   ]
  },
  {
   "cell_type": "code",
   "execution_count": 10,
   "id": "de0e560e",
   "metadata": {},
   "outputs": [
    {
     "name": "stdout",
     "output_type": "stream",
     "text": [
      "2025-04-26 00:24:27,130 INFO sqlalchemy.engine.Engine BEGIN (implicit)\n",
      "2025-04-26 00:24:27,132 INFO sqlalchemy.engine.Engine SELECT salary_requests.id, salary_requests.dedicacion, salary_requests.contrato, salary_requests.cantidad_de_personas_en_tu_organizacion, salary_requests.modalidad_de_trabajo, salary_requests.seniority, salary_requests.marvin_rol, salary_requests.anos_de_experiencia, salary_requests.antiguedad_en_la_empresa_actual, salary_requests.anos_en_el_puesto_actual, salary_requests.cuantas_personas_tenes_a_cargo, salary_requests.edad, salary_requests.date, salary_requests.username \n",
      "FROM salary_requests \n",
      "WHERE salary_requests.id = %s\n",
      "2025-04-26 00:24:27,133 INFO sqlalchemy.engine.Engine [generated in 0.00097s] (1,)\n",
      "2025-04-26 00:24:27,338 INFO sqlalchemy.engine.Engine ROLLBACK\n"
     ]
    },
    {
     "data": {
      "text/plain": [
       "[SalaryRequestModel(id=1, cantidad_de_personas_en_tu_organizacion='De 5001 a 10000 personas', seniority='Manager or Above', anos_de_experiencia=39, anos_en_el_puesto_actual=19, edad=48, username=None, modalidad_de_trabajo='100% presencial', contrato='Staff (planta permanente)', dedicacion='Part-Time', marvin_rol='1', antiguedad_en_la_empresa_actual=42, cuantas_personas_tenes_a_cargo=28, date=datetime.datetime(2025, 4, 26, 0, 24, 13))]"
      ]
     },
     "execution_count": 10,
     "metadata": {},
     "output_type": "execute_result"
    }
   ],
   "source": [
    "await db_service.get_data(1, SalaryRequestModel)"
   ]
  },
  {
   "cell_type": "code",
   "execution_count": 11,
   "id": "7079ba59",
   "metadata": {},
   "outputs": [
    {
     "name": "stdout",
     "output_type": "stream",
     "text": [
      "2025-04-26 00:24:30,356 INFO sqlalchemy.engine.Engine BEGIN (implicit)\n",
      "2025-04-26 00:24:30,357 INFO sqlalchemy.engine.Engine SELECT salary_requests.id, salary_requests.dedicacion, salary_requests.contrato, salary_requests.cantidad_de_personas_en_tu_organizacion, salary_requests.modalidad_de_trabajo, salary_requests.seniority, salary_requests.marvin_rol, salary_requests.anos_de_experiencia, salary_requests.antiguedad_en_la_empresa_actual, salary_requests.anos_en_el_puesto_actual, salary_requests.cuantas_personas_tenes_a_cargo, salary_requests.edad, salary_requests.date, salary_requests.username \n",
      "FROM salary_requests\n",
      "2025-04-26 00:24:30,359 INFO sqlalchemy.engine.Engine [generated in 0.00121s] ()\n",
      "2025-04-26 00:24:30,564 INFO sqlalchemy.engine.Engine ROLLBACK\n"
     ]
    },
    {
     "data": {
      "text/plain": [
       "[SalaryRequestModel(id=1, cantidad_de_personas_en_tu_organizacion='De 5001 a 10000 personas', seniority='Manager or Above', anos_de_experiencia=39, anos_en_el_puesto_actual=19, edad=48, username=None, modalidad_de_trabajo='100% presencial', contrato='Staff (planta permanente)', dedicacion='Part-Time', marvin_rol='1', antiguedad_en_la_empresa_actual=42, cuantas_personas_tenes_a_cargo=28, date=datetime.datetime(2025, 4, 26, 0, 24, 13))]"
      ]
     },
     "execution_count": 11,
     "metadata": {},
     "output_type": "execute_result"
    }
   ],
   "source": [
    "await db_service.get_all_data(SalaryRequestModel)"
   ]
  },
  {
   "cell_type": "code",
   "execution_count": 12,
   "id": "9dfdfbc9",
   "metadata": {},
   "outputs": [
    {
     "name": "stdout",
     "output_type": "stream",
     "text": [
      "2025-04-26 00:24:33,881 INFO sqlalchemy.engine.Engine BEGIN (implicit)\n",
      "2025-04-26 00:24:33,882 INFO sqlalchemy.engine.Engine SELECT salary_requests.id, salary_requests.dedicacion, salary_requests.contrato, salary_requests.cantidad_de_personas_en_tu_organizacion, salary_requests.modalidad_de_trabajo, salary_requests.seniority, salary_requests.marvin_rol, salary_requests.anos_de_experiencia, salary_requests.antiguedad_en_la_empresa_actual, salary_requests.anos_en_el_puesto_actual, salary_requests.cuantas_personas_tenes_a_cargo, salary_requests.edad, salary_requests.date, salary_requests.username \n",
      "FROM salary_requests \n",
      "WHERE salary_requests.id = %s\n",
      "2025-04-26 00:24:33,883 INFO sqlalchemy.engine.Engine [cached since 6.751s ago] (1,)\n",
      "2025-04-26 00:24:34,090 INFO sqlalchemy.engine.Engine ROLLBACK\n"
     ]
    },
    {
     "data": {
      "text/plain": [
       "SalaryRequestModel(id=1, cantidad_de_personas_en_tu_organizacion='De 5001 a 10000 personas', seniority='Manager or Above', anos_de_experiencia=39, anos_en_el_puesto_actual=19, edad=48, username=None, modalidad_de_trabajo='100% presencial', contrato='Staff (planta permanente)', dedicacion='Part-Time', marvin_rol='1', antiguedad_en_la_empresa_actual=42, cuantas_personas_tenes_a_cargo=28, date=datetime.datetime(2025, 4, 26, 0, 24, 13))"
      ]
     },
     "execution_count": 12,
     "metadata": {},
     "output_type": "execute_result"
    }
   ],
   "source": [
    "await db_service.get_first_data(1, SalaryRequestModel)"
   ]
  }
 ],
 "metadata": {
  "kernelspec": {
   "display_name": "workspace-dqq3IVyd",
   "language": "python",
   "name": "python3"
  },
  "language_info": {
   "codemirror_mode": {
    "name": "ipython",
    "version": 3
   },
   "file_extension": ".py",
   "mimetype": "text/x-python",
   "name": "python",
   "nbconvert_exporter": "python",
   "pygments_lexer": "ipython3",
   "version": "3.12.10"
  }
 },
 "nbformat": 4,
 "nbformat_minor": 5
}
