{
 "cells": [
  {
   "cell_type": "code",
   "execution_count": 1,
   "id": "24f42b84",
   "metadata": {},
   "outputs": [],
   "source": [
    "import pandas as pd \n",
    "import os\n",
    "os.chdir(\"../\")"
   ]
  },
  {
   "cell_type": "code",
   "execution_count": 2,
   "id": "6a88a6ff",
   "metadata": {},
   "outputs": [],
   "source": [
    "df = pd.read_csv(r\"data\\tech_salaries_filtered_no_others.csv\")"
   ]
  },
  {
   "cell_type": "code",
   "execution_count": 3,
   "id": "a2a1e73c",
   "metadata": {},
   "outputs": [
    {
     "data": {
      "text/plain": [
       "array(['De 201 a 500 personas', 'De 1001 a 2000 personas',\n",
       "       'De 2 a 10 personas', 'Más de 10000 personas',\n",
       "       'De 51 a 100 personas', 'De 2001a 5000 personas',\n",
       "       'De 11  a 50  personas', 'De 101 a 200 personas',\n",
       "       'De 5001 a 10000 personas', 'De 501 a 1000 personas',\n",
       "       '1 (solamente yo)'], dtype=object)"
      ]
     },
     "execution_count": 3,
     "metadata": {},
     "output_type": "execute_result"
    }
   ],
   "source": [
    "df.cantidad_de_personas_en_tu_organizacion.unique()"
   ]
  },
  {
   "cell_type": "code",
   "execution_count": 4,
   "id": "288e05c1",
   "metadata": {},
   "outputs": [],
   "source": [
    "df['contrato'] = df['contrato'].replace({\n",
    "    'Tercerizado (trabajo a través de consultora o agencia)': 'Contractor',\n",
    "    'Freelance': 'Contractor',\n",
    "    \"Participación societaria en una cooperativa\": 'Contractor',\n",
    "})"
   ]
  },
  {
   "cell_type": "code",
   "execution_count": 5,
   "id": "3effe7aa",
   "metadata": {},
   "outputs": [
    {
     "data": {
      "text/plain": [
       "array(['Semi-Senior', 'Senior', 'Junior', 'Manager or Above'],\n",
       "      dtype=object)"
      ]
     },
     "execution_count": 5,
     "metadata": {},
     "output_type": "execute_result"
    }
   ],
   "source": [
    "df[\"seniority\"].unique()"
   ]
  },
  {
   "cell_type": "code",
   "execution_count": 6,
   "id": "e45b6d96",
   "metadata": {},
   "outputs": [
    {
     "data": {
      "text/plain": [
       "{'dedicacion': {0: 'Full-Time',\n",
       "  1: 'Part-Time',\n",
       "  2: 'Full-Time',\n",
       "  3: 'Full-Time',\n",
       "  4: 'Full-Time'},\n",
       " 'contrato': {0: 'Staff (planta permanente)',\n",
       "  1: 'Staff (planta permanente)',\n",
       "  2: 'Staff (planta permanente)',\n",
       "  3: 'Contractor',\n",
       "  4: 'Staff (planta permanente)'},\n",
       " 'salario': {0: 3952805.0,\n",
       "  1: 1606000.0,\n",
       "  2: 4000000.0,\n",
       "  3: 3000000.0,\n",
       "  4: 3953142.06},\n",
       " 'anos_de_experiencia': {0: 3, 1: 5, 2: 25, 3: 18, 4: 15},\n",
       " 'antiguedad_en_la_empresa_actual': {0: 3, 1: 2, 2: 3, 3: 8, 4: 5},\n",
       " 'anos_en_el_puesto_actual': {0: 1, 1: 2, 2: 3, 3: 6, 4: 4},\n",
       " 'cuantas_personas_tenes_a_cargo': {0: 2, 1: 0, 2: 5, 3: 0, 4: 3},\n",
       " 'cantidad_de_personas_en_tu_organizacion': {0: 'De 201 a 500 personas',\n",
       "  1: 'De 1001 a 2000 personas',\n",
       "  2: 'De 2 a 10 personas',\n",
       "  3: 'De 2 a 10 personas',\n",
       "  4: 'De 201 a 500 personas'},\n",
       " 'modalidad_de_trabajo': {0: '100% remoto',\n",
       "  1: '100% remoto',\n",
       "  2: '100% remoto',\n",
       "  3: '100% remoto',\n",
       "  4: '100% remoto'},\n",
       " 'edad': {0: 29, 1: 25, 2: 50, 3: 41, 4: 47},\n",
       " 'seniority': {0: 'Semi-Senior',\n",
       "  1: 'Semi-Senior',\n",
       "  2: 'Senior',\n",
       "  3: 'Senior',\n",
       "  4: 'Senior'},\n",
       " 'marvin_rol': {0: 5, 1: 4, 2: 3, 3: 3, 4: 2}}"
      ]
     },
     "execution_count": 6,
     "metadata": {},
     "output_type": "execute_result"
    }
   ],
   "source": [
    "df.head().to_dict()"
   ]
  },
  {
   "cell_type": "code",
   "execution_count": 93,
   "id": "31aecd42",
   "metadata": {},
   "outputs": [],
   "source": [
    "from sklearn.base import BaseEstimator, TransformerMixin\n",
    "from sklearn.compose import ColumnTransformer\n",
    "from sklearn.impute import SimpleImputer\n",
    "from sklearn.pipeline import Pipeline\n",
    "from sklearn.preprocessing import OneHotEncoder, StandardScaler, OrdinalEncoder\n",
    "import numpy as np\n",
    "from typing_extensions import Self\n",
    "from typing import Any\n",
    "from sklearn.model_selection import train_test_split\n",
    "from sklearn.linear_model import LinearRegression, RidgeCV, LassoCV, ElasticNetCV, MultiTaskElasticNetCV, LassoLars, BayesianRidge, ARDRegression, SGDRegressor\n",
    "from sklearn.ensemble import RandomForestRegressor, GradientBoostingRegressor\n",
    "from sklearn.metrics import mean_squared_error, mean_absolute_error, r2_score\n",
    "from sklearn.feature_selection import SelectFromModel\n",
    "from sklearn.model_selection import cross_val_score  #"
   ]
  },
  {
   "cell_type": "code",
   "execution_count": 94,
   "id": "3e1dde63",
   "metadata": {},
   "outputs": [],
   "source": [
    "Array = pd.DataFrame | pd.Series | np.ndarray"
   ]
  },
  {
   "cell_type": "code",
   "execution_count": 95,
   "id": "867e0e6a",
   "metadata": {},
   "outputs": [],
   "source": [
    "class DataFrameSelector(BaseEstimator, TransformerMixin):\n",
    "    def __init__(self, columns: list[str]):\n",
    "        self.columns = columns\n",
    "        \n",
    "    def fit(self, X: pd.DataFrame, y: Array | None = None) -> Self:\n",
    "        return self\n",
    "    \n",
    "    def transform(self, X: pd.DataFrame) -> pd.DataFrame:\n",
    "        return X[self.columns].values\n"
   ]
  },
  {
   "cell_type": "code",
   "execution_count": 96,
   "id": "e546b461",
   "metadata": {},
   "outputs": [],
   "source": [
    "class SeniorityTransformer(BaseEstimator, TransformerMixin):\n",
    "    seniority_mapping: dict[str, int] = {\n",
    "        'Junior': 1, \n",
    "        'Semi-Senior': 2, \n",
    "        'Senior': 3, \n",
    "        'Manager or Above': 4\n",
    "    }\n",
    "    \n",
    "    def fit(self, X: Array, y: Array | None = None) -> Self:\n",
    "        return self\n",
    "    \n",
    "    def transform(self, X: Array) -> np.ndarray:\n",
    "        if isinstance(X, pd.DataFrame):\n",
    "            values = X.iloc[:, 0].values\n",
    "        else:\n",
    "            values = X.flatten()\n",
    "        \n",
    "        result = np.array([self.seniority_mapping.get(x, 0) for x in values])\n",
    "        return result.reshape(-1, 1)"
   ]
  },
  {
   "cell_type": "code",
   "execution_count": 97,
   "id": "acd3b7a3",
   "metadata": {},
   "outputs": [],
   "source": [
    "class OrganizationSizeTransformer(BaseEstimator, TransformerMixin):\n",
    "    size_mapping = {\n",
    "        '1 (solamente yo)': 1,\n",
    "        'De 2 a 10 personas': 6,  # promedio de 2 y 10\n",
    "        'De 11 a 50 personas': 30,\n",
    "        'De 51 a 100 personas': 75,\n",
    "        'De 101 a 200 personas': 150,\n",
    "        'De 201 a 500 personas': 350,\n",
    "        'De 501 a 1000 personas': 750,\n",
    "        'De 1001 a 2000 personas': 1500,\n",
    "        'De 2001a 5000 personas': 3500,\n",
    "        'De 5001 a 10000 personas': 7500,\n",
    "        'Más de 10000 personas': 15000\n",
    "    }\n",
    "    \n",
    "    def fit(self, X: Array, y: Array | None = None) -> Self:\n",
    "        return self\n",
    "    \n",
    "    def transform(self, X: Array) -> np.ndarray:\n",
    "        if isinstance(X, pd.DataFrame):\n",
    "            values = X.iloc[:, 0].values\n",
    "        else:\n",
    "            values = X.flatten()\n",
    "        \n",
    "        result = np.array([self.size_mapping.get(x, 0) for x in values])\n",
    "        return result.reshape(-1, 1) "
   ]
  },
  {
   "cell_type": "code",
   "execution_count": 98,
   "id": "5a21fdd9",
   "metadata": {},
   "outputs": [
    {
     "data": {
      "text/plain": [
       "Index(['dedicacion', 'contrato', 'salario', 'anos_de_experiencia',\n",
       "       'antiguedad_en_la_empresa_actual', 'anos_en_el_puesto_actual',\n",
       "       'cuantas_personas_tenes_a_cargo',\n",
       "       'cantidad_de_personas_en_tu_organizacion', 'modalidad_de_trabajo',\n",
       "       'edad', 'seniority', 'marvin_rol'],\n",
       "      dtype='object')"
      ]
     },
     "execution_count": 98,
     "metadata": {},
     "output_type": "execute_result"
    }
   ],
   "source": [
    "df.columns"
   ]
  },
  {
   "cell_type": "code",
   "execution_count": 99,
   "id": "baedfac2",
   "metadata": {},
   "outputs": [],
   "source": [
    "class SalaryPredictionPipeline:\n",
    "    \"\"\"Pipeline completa para la predicción de salarios.\"\"\"\n",
    "    \n",
    "    def __init__(self, model: Any | None = None):\n",
    "        self.model = model\n",
    "        self.pipeline: Pipeline | None = None\n",
    "        self.categorical_columns: list[str] = [\n",
    "            'dedicacion', 'contrato', 'cantidad_de_personas_en_tu_organizacion',\n",
    "            'modalidad_de_trabajo', 'seniority', 'marvin_rol'\n",
    "        ]\n",
    "        self.numerical_columns: list[str] = [\n",
    "            'anos_de_experiencia', 'antiguedad_en_la_empresa_actual',\n",
    "            'anos_en_el_puesto_actual', 'cuantas_personas_tenes_a_cargo', 'edad'\n",
    "        ]\n",
    "        self.target_column: str = 'salario'\n",
    "        \n",
    "    def build_pipeline(self):\n",
    "        # Transformadores modificados para garantizar consistencia\n",
    "        numerical_pipeline = Pipeline([\n",
    "            ('selector', DataFrameSelector(self.numerical_columns)),\n",
    "            ('scaler', StandardScaler())\n",
    "        ])\n",
    "        \n",
    "        categorical_basic_cols = ['dedicacion', 'contrato', 'modalidad_de_trabajo']\n",
    "        categorical_basic_pipeline = Pipeline([\n",
    "            ('selector', DataFrameSelector(categorical_basic_cols)),\n",
    "            ('encoder', OneHotEncoder(sparse_output=False))\n",
    "        ])\n",
    "        \n",
    "        seniority_pipeline = Pipeline([\n",
    "            ('selector', DataFrameSelector(['seniority'])),\n",
    "            ('transformer', SeniorityTransformer())\n",
    "        ])\n",
    "        \n",
    "        org_size_pipeline = Pipeline([\n",
    "            ('selector', DataFrameSelector(['cantidad_de_personas_en_tu_organizacion'])),\n",
    "            ('transformer', OrganizationSizeTransformer())\n",
    "        ])\n",
    "        \n",
    "        preprocessor = ColumnTransformer(\n",
    "            transformers=[\n",
    "                ('numerical', numerical_pipeline, self.numerical_columns),\n",
    "                ('categorical_basic', categorical_basic_pipeline, categorical_basic_cols),\n",
    "                ('seniority', seniority_pipeline, ['seniority']),\n",
    "                ('org_size', org_size_pipeline, ['cantidad_de_personas_en_tu_organizacion'])\n",
    "            ],\n",
    "            remainder='drop'\n",
    "        )\n",
    "        \n",
    "        if self.model:\n",
    "            self.pipeline = Pipeline([\n",
    "                ('preprocessor', preprocessor),\n",
    "                ('model', self.model)\n",
    "            ])\n",
    "        else:\n",
    "            self.pipeline = Pipeline([\n",
    "                ('preprocessor', preprocessor)\n",
    "            ])\n",
    "            \n",
    "        return self.pipeline\n",
    "    \n",
    "    def fit(self, X: pd.DataFrame, y: Array) -> Self:\n",
    "        if self.pipeline is None:\n",
    "            self.build_pipeline()\n",
    "        \n",
    "        if X.isna().any().any():\n",
    "            print(f\"Advertencia: El dataset tiene valores NaN. La pipeline intentará manejarlos.\")\n",
    "            \n",
    "        self.pipeline.fit(X, y)\n",
    "        return self\n",
    "    \n",
    "    def transform(self, X: pd.DataFrame) -> np.ndarray:\n",
    "        if self.pipeline is None:\n",
    "            raise ValueError(\"La pipeline no ha sido construida o entrenada\")\n",
    "            \n",
    "        return self.pipeline.transform(X)\n",
    "    \n",
    "    def predict(self, X: pd.DataFrame) -> np.ndarray:\n",
    "        \"\"\"Realiza predicciones utilizando el modelo entrenado.\"\"\"\n",
    "        if self.pipeline is None or self.model is None:\n",
    "            raise ValueError(\"La pipeline completa con modelo no está disponible\")\n",
    "            \n",
    "        return self.pipeline.predict(X)"
   ]
  },
  {
   "cell_type": "code",
   "execution_count": 100,
   "id": "6f43cb1e",
   "metadata": {},
   "outputs": [],
   "source": [
    "X = df.drop('salario', axis=1)\n",
    "y = df['salario']\n",
    "\n",
    "pipeline = SalaryPredictionPipeline()\n",
    "transformed_data = pipeline.build_pipeline().fit_transform(X)"
   ]
  },
  {
   "cell_type": "code",
   "execution_count": 101,
   "id": "b005aa31",
   "metadata": {},
   "outputs": [],
   "source": [
    "y_log = np.log1p(y)\n",
    "\n",
    "X_train, X_test, y_train, y_test = train_test_split(\n",
    "    X, y_log, test_size=0.2, random_state=42\n",
    ")\n"
   ]
  },
  {
   "cell_type": "code",
   "execution_count": 102,
   "id": "38612149",
   "metadata": {},
   "outputs": [],
   "source": [
    "regressor = LinearRegression()"
   ]
  },
  {
   "cell_type": "code",
   "execution_count": 103,
   "id": "d65dacec",
   "metadata": {},
   "outputs": [],
   "source": [
    "def evaluate_model(model: Any, X_test: pd.DataFrame, y_test: pd.Series) -> dict[str, float]:\n",
    "    y_pred = model.predict(X_test)\n",
    "    \n",
    "    y_test_orig = np.expm1(y_test)\n",
    "    y_pred_orig = np.expm1(y_pred)\n",
    "    \n",
    "    metrics = {\n",
    "        'r2': r2_score(y_test, y_pred),\n",
    "        'mse': mean_squared_error(y_test, y_pred),\n",
    "        'rmse': np.sqrt(mean_squared_error(y_test, y_pred)),\n",
    "        'mae': mean_absolute_error(y_test, y_pred),\n",
    "        'r2_original': r2_score(y_test_orig, y_pred_orig),\n",
    "        'rmse_original': np.sqrt(mean_squared_error(y_test_orig, y_pred_orig)),\n",
    "        'mae_original': mean_absolute_error(y_test_orig, y_pred_orig)\n",
    "    }\n",
    "    \n",
    "    print(\"Métricas de evaluación del modelo:\")\n",
    "    print(f\"R² (escala log): {metrics['r2']:.4f}\")\n",
    "    print(f\"RMSE (escala log): {metrics['rmse']:.4f}\")\n",
    "    print(f\"MAE (escala log): {metrics['mae']:.4f}\")\n",
    "    print(f\"R² (escala original): {metrics['r2_original']:.4f}\")\n",
    "    print(f\"RMSE (escala original): {metrics['rmse_original']:.2f}\")\n",
    "    print(f\"MAE (escala original): {metrics['mae_original']:.2f}\")\n",
    "    \n",
    "    return metrics"
   ]
  },
  {
   "cell_type": "code",
   "execution_count": 104,
   "id": "f98f3405",
   "metadata": {},
   "outputs": [],
   "source": [
    "regressor = LinearRegression()\n",
    "\n",
    "\n",
    "def get_metrics_by_model(model: Any) -> None:\n",
    "    pipeline = SalaryPredictionPipeline(model=model)\n",
    "    model_pipeline = pipeline.build_pipeline()\n",
    "\n",
    "    model_pipeline_fitted = model_pipeline.fit(X_train, y_train)\n",
    "\n",
    "    y_pred = model_pipeline_fitted.predict(X_test)\n",
    "\n",
    "    y_test_orig = np.expm1(y_test)\n",
    "    y_pred_orig = np.expm1(y_pred)\n",
    "\n",
    "    metrics = {\n",
    "        'r2': r2_score(y_test, y_pred),\n",
    "        'mse': mean_squared_error(y_test, y_pred),\n",
    "        'rmse': np.sqrt(mean_squared_error(y_test, y_pred)),\n",
    "        'mae': mean_absolute_error(y_test, y_pred),\n",
    "        'r2_original': r2_score(y_test_orig, y_pred_orig),\n",
    "        'rmse_original': np.sqrt(mean_squared_error(y_test_orig, y_pred_orig)),\n",
    "        'mae_original': mean_absolute_error(y_test_orig, y_pred_orig)\n",
    "    }\n",
    "\n",
    "    print(\"Métricas de evaluación del modelo:\")\n",
    "    print(f\"R² (escala log): {metrics['r2']:.4f}\")\n",
    "    print(f\"RMSE (escala log): {metrics['rmse']:.4f}\")\n",
    "    print(f\"MAE (escala log): {metrics['mae']:.4f}\")\n",
    "    print(f\"R² (escala original): {metrics['r2_original']:.4f}\")\n",
    "    print(f\"RMSE (escala original): {metrics['rmse_original']:.2f}\")\n",
    "    print(f\"MAE (escala original): {metrics['mae_original']:.2f}\")"
   ]
  },
  {
   "cell_type": "markdown",
   "id": "2e511433",
   "metadata": {},
   "source": [
    "### Modelos Lineales"
   ]
  },
  {
   "cell_type": "code",
   "execution_count": 105,
   "id": "19be1459",
   "metadata": {},
   "outputs": [
    {
     "name": "stdout",
     "output_type": "stream",
     "text": [
      "Métricas de evaluación del modelo:\n",
      "R² (escala log): 0.2802\n",
      "RMSE (escala log): 0.4156\n",
      "MAE (escala log): 0.3353\n",
      "R² (escala original): 0.2152\n",
      "RMSE (escala original): 1101893.49\n",
      "MAE (escala original): 825785.65\n"
     ]
    },
    {
     "name": "stderr",
     "output_type": "stream",
     "text": [
      "c:\\Users\\tomas\\.virtualenvs\\GET_YOUR_SALARY-sYgm8OCH\\Lib\\site-packages\\sklearn\\pipeline.py:62: FutureWarning: This Pipeline instance is not fitted yet. Call 'fit' with appropriate arguments before using other methods such as transform, predict, etc. This will raise an error in 1.8 instead of the current warning.\n",
      "  warnings.warn(\n",
      "c:\\Users\\tomas\\.virtualenvs\\GET_YOUR_SALARY-sYgm8OCH\\Lib\\site-packages\\sklearn\\pipeline.py:62: FutureWarning: This Pipeline instance is not fitted yet. Call 'fit' with appropriate arguments before using other methods such as transform, predict, etc. This will raise an error in 1.8 instead of the current warning.\n",
      "  warnings.warn(\n"
     ]
    }
   ],
   "source": [
    "get_metrics_by_model(regressor)"
   ]
  },
  {
   "cell_type": "code",
   "execution_count": 106,
   "id": "cdb96790",
   "metadata": {},
   "outputs": [
    {
     "name": "stdout",
     "output_type": "stream",
     "text": [
      "Métricas de evaluación del modelo:\n",
      "R² (escala log): 0.2810\n",
      "RMSE (escala log): 0.4153\n",
      "MAE (escala log): 0.3354\n",
      "R² (escala original): 0.2154\n",
      "RMSE (escala original): 1101734.79\n",
      "MAE (escala original): 825851.49\n"
     ]
    },
    {
     "name": "stderr",
     "output_type": "stream",
     "text": [
      "c:\\Users\\tomas\\.virtualenvs\\GET_YOUR_SALARY-sYgm8OCH\\Lib\\site-packages\\sklearn\\pipeline.py:62: FutureWarning: This Pipeline instance is not fitted yet. Call 'fit' with appropriate arguments before using other methods such as transform, predict, etc. This will raise an error in 1.8 instead of the current warning.\n",
      "  warnings.warn(\n",
      "c:\\Users\\tomas\\.virtualenvs\\GET_YOUR_SALARY-sYgm8OCH\\Lib\\site-packages\\sklearn\\pipeline.py:62: FutureWarning: This Pipeline instance is not fitted yet. Call 'fit' with appropriate arguments before using other methods such as transform, predict, etc. This will raise an error in 1.8 instead of the current warning.\n",
      "  warnings.warn(\n"
     ]
    }
   ],
   "source": [
    "ridge = RidgeCV()\n",
    "get_metrics_by_model(ridge)"
   ]
  },
  {
   "cell_type": "code",
   "execution_count": 107,
   "id": "a13ea2ae",
   "metadata": {},
   "outputs": [
    {
     "name": "stderr",
     "output_type": "stream",
     "text": [
      "c:\\Users\\tomas\\.virtualenvs\\GET_YOUR_SALARY-sYgm8OCH\\Lib\\site-packages\\sklearn\\pipeline.py:62: FutureWarning: This Pipeline instance is not fitted yet. Call 'fit' with appropriate arguments before using other methods such as transform, predict, etc. This will raise an error in 1.8 instead of the current warning.\n",
      "  warnings.warn(\n",
      "c:\\Users\\tomas\\.virtualenvs\\GET_YOUR_SALARY-sYgm8OCH\\Lib\\site-packages\\sklearn\\pipeline.py:62: FutureWarning: This Pipeline instance is not fitted yet. Call 'fit' with appropriate arguments before using other methods such as transform, predict, etc. This will raise an error in 1.8 instead of the current warning.\n",
      "  warnings.warn(\n"
     ]
    },
    {
     "name": "stdout",
     "output_type": "stream",
     "text": [
      "Métricas de evaluación del modelo:\n",
      "R² (escala log): -0.0009\n",
      "RMSE (escala log): 0.4900\n",
      "MAE (escala log): 0.4053\n",
      "R² (escala original): -0.0425\n",
      "RMSE (escala original): 1269965.48\n",
      "MAE (escala original): 977625.16\n"
     ]
    }
   ],
   "source": [
    "lasso = LassoCV()\n",
    "get_metrics_by_model(lasso)"
   ]
  },
  {
   "cell_type": "code",
   "execution_count": 108,
   "id": "b0322e8b",
   "metadata": {},
   "outputs": [
    {
     "name": "stdout",
     "output_type": "stream",
     "text": [
      "Métricas de evaluación del modelo:\n",
      "R² (escala log): -0.0009\n",
      "RMSE (escala log): 0.4900\n",
      "MAE (escala log): 0.4053\n",
      "R² (escala original): -0.0425\n",
      "RMSE (escala original): 1269965.48\n",
      "MAE (escala original): 977625.16\n"
     ]
    },
    {
     "name": "stderr",
     "output_type": "stream",
     "text": [
      "c:\\Users\\tomas\\.virtualenvs\\GET_YOUR_SALARY-sYgm8OCH\\Lib\\site-packages\\sklearn\\pipeline.py:62: FutureWarning: This Pipeline instance is not fitted yet. Call 'fit' with appropriate arguments before using other methods such as transform, predict, etc. This will raise an error in 1.8 instead of the current warning.\n",
      "  warnings.warn(\n",
      "c:\\Users\\tomas\\.virtualenvs\\GET_YOUR_SALARY-sYgm8OCH\\Lib\\site-packages\\sklearn\\pipeline.py:62: FutureWarning: This Pipeline instance is not fitted yet. Call 'fit' with appropriate arguments before using other methods such as transform, predict, etc. This will raise an error in 1.8 instead of the current warning.\n",
      "  warnings.warn(\n"
     ]
    }
   ],
   "source": [
    "elastic_net = ElasticNetCV()\n",
    "get_metrics_by_model(elastic_net)"
   ]
  },
  {
   "cell_type": "code",
   "execution_count": 109,
   "id": "f137317f",
   "metadata": {},
   "outputs": [
    {
     "name": "stderr",
     "output_type": "stream",
     "text": [
      "c:\\Users\\tomas\\.virtualenvs\\GET_YOUR_SALARY-sYgm8OCH\\Lib\\site-packages\\sklearn\\pipeline.py:62: FutureWarning: This Pipeline instance is not fitted yet. Call 'fit' with appropriate arguments before using other methods such as transform, predict, etc. This will raise an error in 1.8 instead of the current warning.\n",
      "  warnings.warn(\n",
      "c:\\Users\\tomas\\.virtualenvs\\GET_YOUR_SALARY-sYgm8OCH\\Lib\\site-packages\\sklearn\\pipeline.py:62: FutureWarning: This Pipeline instance is not fitted yet. Call 'fit' with appropriate arguments before using other methods such as transform, predict, etc. This will raise an error in 1.8 instead of the current warning.\n",
      "  warnings.warn(\n"
     ]
    },
    {
     "name": "stdout",
     "output_type": "stream",
     "text": [
      "Métricas de evaluación del modelo:\n",
      "R² (escala log): -0.0009\n",
      "RMSE (escala log): 0.4900\n",
      "MAE (escala log): 0.4053\n",
      "R² (escala original): -0.0425\n",
      "RMSE (escala original): 1269978.57\n",
      "MAE (escala original): 977633.04\n"
     ]
    }
   ],
   "source": [
    "lasso_lars = LassoLars()\n",
    "get_metrics_by_model(lasso_lars)"
   ]
  },
  {
   "cell_type": "code",
   "execution_count": 110,
   "id": "7082cc13",
   "metadata": {},
   "outputs": [
    {
     "name": "stdout",
     "output_type": "stream",
     "text": [
      "Métricas de evaluación del modelo:\n",
      "R² (escala log): 0.2809\n",
      "RMSE (escala log): 0.4154\n",
      "MAE (escala log): 0.3353\n",
      "R² (escala original): 0.2154\n",
      "RMSE (escala original): 1101751.92\n",
      "MAE (escala original): 825832.67\n"
     ]
    },
    {
     "name": "stderr",
     "output_type": "stream",
     "text": [
      "c:\\Users\\tomas\\.virtualenvs\\GET_YOUR_SALARY-sYgm8OCH\\Lib\\site-packages\\sklearn\\pipeline.py:62: FutureWarning: This Pipeline instance is not fitted yet. Call 'fit' with appropriate arguments before using other methods such as transform, predict, etc. This will raise an error in 1.8 instead of the current warning.\n",
      "  warnings.warn(\n",
      "c:\\Users\\tomas\\.virtualenvs\\GET_YOUR_SALARY-sYgm8OCH\\Lib\\site-packages\\sklearn\\pipeline.py:62: FutureWarning: This Pipeline instance is not fitted yet. Call 'fit' with appropriate arguments before using other methods such as transform, predict, etc. This will raise an error in 1.8 instead of the current warning.\n",
      "  warnings.warn(\n"
     ]
    }
   ],
   "source": [
    "lasso_lars = BayesianRidge()\n",
    "get_metrics_by_model(lasso_lars)"
   ]
  },
  {
   "cell_type": "code",
   "execution_count": 111,
   "id": "5c46d10b",
   "metadata": {},
   "outputs": [
    {
     "name": "stderr",
     "output_type": "stream",
     "text": [
      "c:\\Users\\tomas\\.virtualenvs\\GET_YOUR_SALARY-sYgm8OCH\\Lib\\site-packages\\sklearn\\pipeline.py:62: FutureWarning: This Pipeline instance is not fitted yet. Call 'fit' with appropriate arguments before using other methods such as transform, predict, etc. This will raise an error in 1.8 instead of the current warning.\n",
      "  warnings.warn(\n",
      "c:\\Users\\tomas\\.virtualenvs\\GET_YOUR_SALARY-sYgm8OCH\\Lib\\site-packages\\sklearn\\pipeline.py:62: FutureWarning: This Pipeline instance is not fitted yet. Call 'fit' with appropriate arguments before using other methods such as transform, predict, etc. This will raise an error in 1.8 instead of the current warning.\n",
      "  warnings.warn(\n"
     ]
    },
    {
     "name": "stdout",
     "output_type": "stream",
     "text": [
      "Métricas de evaluación del modelo:\n",
      "R² (escala log): 0.2813\n",
      "RMSE (escala log): 0.4153\n",
      "MAE (escala log): 0.3357\n",
      "R² (escala original): 0.2152\n",
      "RMSE (escala original): 1101870.24\n",
      "MAE (escala original): 826552.92\n"
     ]
    }
   ],
   "source": [
    "adr = ARDRegression()\n",
    "get_metrics_by_model(adr)"
   ]
  },
  {
   "cell_type": "code",
   "execution_count": null,
   "id": "76f39b20",
   "metadata": {},
   "outputs": [],
   "source": []
  },
  {
   "cell_type": "markdown",
   "id": "d2a4ee0f",
   "metadata": {},
   "source": [
    "### Modelos no lineales (y pipeline no lineal)"
   ]
  },
  {
   "cell_type": "code",
   "execution_count": 112,
   "id": "136515e0",
   "metadata": {},
   "outputs": [],
   "source": [
    "class SalaryPredictionPipeline:\n",
    "    \"\"\"Pipeline completa para la predicción de salarios.\"\"\"\n",
    "    \n",
    "    def __init__(self, model: Any | None = None):\n",
    "        self.model = model\n",
    "        self.pipeline: Pipeline | None = None\n",
    "        self.categorical_columns: list[str] = [\n",
    "            'dedicacion', 'contrato', 'cantidad_de_personas_en_tu_organizacion',\n",
    "            'modalidad_de_trabajo', 'seniority', 'marvin_rol'\n",
    "        ]\n",
    "        self.numerical_columns: list[str] = [\n",
    "            'anos_de_experiencia', 'antiguedad_en_la_empresa_actual',\n",
    "            'anos_en_el_puesto_actual', 'cuantas_personas_tenes_a_cargo', 'edad'\n",
    "        ]\n",
    "        self.target_column: str = 'salario'\n",
    "        \n",
    "    def build_pipeline(self):\n",
    "        # Transformadores modificados para garantizar consistencia\n",
    "        numerical_pipeline = Pipeline([\n",
    "            ('selector', DataFrameSelector(self.numerical_columns)),\n",
    "            ('scaler', StandardScaler())\n",
    "        ])\n",
    "        \n",
    "        categorical_basic_cols = ['dedicacion', 'contrato', 'modalidad_de_trabajo']\n",
    "        categorical_basic_pipeline = Pipeline([\n",
    "            ('selector', DataFrameSelector(categorical_basic_cols)),\n",
    "            ('encoder', OneHotEncoder(sparse_output=False))\n",
    "        ])\n",
    "        \n",
    "        seniority_pipeline = Pipeline([\n",
    "            ('selector', DataFrameSelector(['seniority'])),\n",
    "            ('transformer', SeniorityTransformer())\n",
    "        ])\n",
    "        \n",
    "        org_size_pipeline = Pipeline([\n",
    "            ('selector', DataFrameSelector(['cantidad_de_personas_en_tu_organizacion'])),\n",
    "            ('transformer', OrganizationSizeTransformer())\n",
    "        ])\n",
    "        \n",
    "        preprocessor = ColumnTransformer(\n",
    "            transformers=[\n",
    "                ('numerical', numerical_pipeline, self.numerical_columns),\n",
    "                ('categorical_basic', categorical_basic_pipeline, categorical_basic_cols),\n",
    "                ('seniority', seniority_pipeline, ['seniority']),\n",
    "                ('org_size', org_size_pipeline, ['cantidad_de_personas_en_tu_organizacion'])\n",
    "            ],\n",
    "            remainder='drop'\n",
    "        )\n",
    "        \n",
    "        if self.model is not None:\n",
    "            self.pipeline = Pipeline([\n",
    "                ('preprocessor', preprocessor),\n",
    "                ('feature_selection', SelectFromModel(estimator=RandomForestRegressor())),\n",
    "                ('model', self.model)\n",
    "            ])\n",
    "        else:\n",
    "            self.pipeline = Pipeline([\n",
    "                ('preprocessor', preprocessor)\n",
    "            ])\n",
    "            \n",
    "        return self.pipeline\n",
    "    \n",
    "    def fit(self, X: pd.DataFrame, y: Array) -> Self:\n",
    "        if self.pipeline is None:\n",
    "            self.build_pipeline()\n",
    "        \n",
    "        if X.isna().any().any():\n",
    "            print(f\"Advertencia: El dataset tiene valores NaN. La pipeline intentará manejarlos.\")\n",
    "            \n",
    "        self.pipeline.fit(X, y)\n",
    "        return self\n",
    "    \n",
    "    def transform(self, X: pd.DataFrame) -> np.ndarray:\n",
    "        if self.pipeline is None:\n",
    "            raise ValueError(\"La pipeline no ha sido construida o entrenada\")\n",
    "            \n",
    "        return self.pipeline.transform(X)\n",
    "    \n",
    "    def predict(self, X: pd.DataFrame) -> np.ndarray:\n",
    "        \"\"\"Realiza predicciones utilizando el modelo entrenado.\"\"\"\n",
    "        if self.pipeline is None or self.model is None:\n",
    "            raise ValueError(\"La pipeline completa con modelo no está disponible\")\n",
    "            \n",
    "        return self.pipeline.predict(X)"
   ]
  },
  {
   "cell_type": "code",
   "execution_count": 113,
   "id": "f3c1684f",
   "metadata": {},
   "outputs": [],
   "source": [
    "from sklearn.ensemble import RandomForestRegressor, GradientBoostingRegressor\n",
    "from sklearn.svm import SVR\n",
    "from xgboost import XGBRegressor"
   ]
  },
  {
   "cell_type": "code",
   "execution_count": 114,
   "id": "064295a2",
   "metadata": {},
   "outputs": [],
   "source": [
    "non_linear_models = {\n",
    "    \"Random Forest\": RandomForestRegressor(n_estimators=200, max_depth=10),\n",
    "    \"Gradient Boosting\": GradientBoostingRegressor(n_estimators=150, learning_rate=0.1),\n",
    "    \"XGBoost\": XGBRegressor(objective='reg:squarederror', n_estimators=150),\n",
    "    \"SVM RBF\": SVR(kernel='rbf', C=1.0, epsilon=0.1)\n",
    "}"
   ]
  },
  {
   "cell_type": "code",
   "execution_count": 115,
   "id": "404b82f1",
   "metadata": {},
   "outputs": [],
   "source": [
    "def get_metrics_by_model(model: Any, use_original_scale: bool = True) -> None:\n",
    "    pipeline = SalaryPredictionPipeline(model=model)\n",
    "    model_pipeline = pipeline.build_pipeline()\n",
    "    \n",
    "    # Validación cruzada para modelos no lineales\n",
    "    cv_scores = cross_val_score(\n",
    "        model_pipeline,\n",
    "        X_train,\n",
    "        y_train,\n",
    "        cv=5,\n",
    "        scoring='neg_root_mean_squared_error'\n",
    "    )\n",
    "    \n",
    "    model_pipeline_fitted = model_pipeline.fit(X_train, y_train)\n",
    "    y_pred = model_pipeline_fitted.predict(X_test)\n",
    "\n",
    "    # Cálculo de métricas mejorado\n",
    "    metrics = {\n",
    "        'cv_rmse_mean': abs(cv_scores.mean()),\n",
    "        'cv_rmse_std': cv_scores.std(),\n",
    "        'r2': model_pipeline_fitted.score(X_test, y_test),\n",
    "        'rmse': np.sqrt(mean_squared_error(y_test, y_pred))\n",
    "    }\n",
    "    \n",
    "    if use_original_scale:\n",
    "        y_test_orig = np.expm1(y_test)\n",
    "        y_pred_orig = np.expm1(y_pred)\n",
    "        metrics.update({\n",
    "            'r2_original': r2_score(y_test_orig, y_pred_orig),\n",
    "            'rmse_original': np.sqrt(mean_squared_error(y_test_orig, y_pred_orig))\n",
    "        })\n",
    "    \n",
    "    print(f\"\\nMétricas para {model.__class__.__name__}:\")\n",
    "    print(f\"CV RMSE: {metrics['cv_rmse_mean']:.4f} (±{metrics['cv_rmse_std']:.4f})\")\n",
    "    print(f\"Test R²: {metrics['r2']:.4f}\")\n",
    "    print(f\"Test RMSE: {metrics['rmse']:.4f}\")\n",
    "    if use_original_scale:\n",
    "        print(f\"Test R² (original): {metrics['r2_original']:.4f}\")\n",
    "        print(f\"Test RMSE (original): {metrics['rmse_original']:.2f}\")"
   ]
  },
  {
   "cell_type": "code",
   "execution_count": 116,
   "id": "4a62beaf",
   "metadata": {},
   "outputs": [
    {
     "name": "stdout",
     "output_type": "stream",
     "text": [
      "\n",
      "========================================\n",
      "Evaluando Random Forest\n"
     ]
    },
    {
     "name": "stderr",
     "output_type": "stream",
     "text": [
      "c:\\Users\\tomas\\.virtualenvs\\GET_YOUR_SALARY-sYgm8OCH\\Lib\\site-packages\\sklearn\\pipeline.py:62: FutureWarning: This Pipeline instance is not fitted yet. Call 'fit' with appropriate arguments before using other methods such as transform, predict, etc. This will raise an error in 1.8 instead of the current warning.\n",
      "  warnings.warn(\n",
      "c:\\Users\\tomas\\.virtualenvs\\GET_YOUR_SALARY-sYgm8OCH\\Lib\\site-packages\\sklearn\\pipeline.py:62: FutureWarning: This Pipeline instance is not fitted yet. Call 'fit' with appropriate arguments before using other methods such as transform, predict, etc. This will raise an error in 1.8 instead of the current warning.\n",
      "  warnings.warn(\n",
      "c:\\Users\\tomas\\.virtualenvs\\GET_YOUR_SALARY-sYgm8OCH\\Lib\\site-packages\\sklearn\\pipeline.py:62: FutureWarning: This Pipeline instance is not fitted yet. Call 'fit' with appropriate arguments before using other methods such as transform, predict, etc. This will raise an error in 1.8 instead of the current warning.\n",
      "  warnings.warn(\n",
      "c:\\Users\\tomas\\.virtualenvs\\GET_YOUR_SALARY-sYgm8OCH\\Lib\\site-packages\\sklearn\\pipeline.py:62: FutureWarning: This Pipeline instance is not fitted yet. Call 'fit' with appropriate arguments before using other methods such as transform, predict, etc. This will raise an error in 1.8 instead of the current warning.\n",
      "  warnings.warn(\n",
      "c:\\Users\\tomas\\.virtualenvs\\GET_YOUR_SALARY-sYgm8OCH\\Lib\\site-packages\\sklearn\\pipeline.py:62: FutureWarning: This Pipeline instance is not fitted yet. Call 'fit' with appropriate arguments before using other methods such as transform, predict, etc. This will raise an error in 1.8 instead of the current warning.\n",
      "  warnings.warn(\n",
      "c:\\Users\\tomas\\.virtualenvs\\GET_YOUR_SALARY-sYgm8OCH\\Lib\\site-packages\\sklearn\\pipeline.py:62: FutureWarning: This Pipeline instance is not fitted yet. Call 'fit' with appropriate arguments before using other methods such as transform, predict, etc. This will raise an error in 1.8 instead of the current warning.\n",
      "  warnings.warn(\n",
      "c:\\Users\\tomas\\.virtualenvs\\GET_YOUR_SALARY-sYgm8OCH\\Lib\\site-packages\\sklearn\\pipeline.py:62: FutureWarning: This Pipeline instance is not fitted yet. Call 'fit' with appropriate arguments before using other methods such as transform, predict, etc. This will raise an error in 1.8 instead of the current warning.\n",
      "  warnings.warn(\n",
      "c:\\Users\\tomas\\.virtualenvs\\GET_YOUR_SALARY-sYgm8OCH\\Lib\\site-packages\\sklearn\\pipeline.py:62: FutureWarning: This Pipeline instance is not fitted yet. Call 'fit' with appropriate arguments before using other methods such as transform, predict, etc. This will raise an error in 1.8 instead of the current warning.\n",
      "  warnings.warn(\n",
      "c:\\Users\\tomas\\.virtualenvs\\GET_YOUR_SALARY-sYgm8OCH\\Lib\\site-packages\\sklearn\\pipeline.py:62: FutureWarning: This Pipeline instance is not fitted yet. Call 'fit' with appropriate arguments before using other methods such as transform, predict, etc. This will raise an error in 1.8 instead of the current warning.\n",
      "  warnings.warn(\n",
      "c:\\Users\\tomas\\.virtualenvs\\GET_YOUR_SALARY-sYgm8OCH\\Lib\\site-packages\\sklearn\\pipeline.py:62: FutureWarning: This Pipeline instance is not fitted yet. Call 'fit' with appropriate arguments before using other methods such as transform, predict, etc. This will raise an error in 1.8 instead of the current warning.\n",
      "  warnings.warn(\n",
      "c:\\Users\\tomas\\.virtualenvs\\GET_YOUR_SALARY-sYgm8OCH\\Lib\\site-packages\\sklearn\\pipeline.py:62: FutureWarning: This Pipeline instance is not fitted yet. Call 'fit' with appropriate arguments before using other methods such as transform, predict, etc. This will raise an error in 1.8 instead of the current warning.\n",
      "  warnings.warn(\n",
      "c:\\Users\\tomas\\.virtualenvs\\GET_YOUR_SALARY-sYgm8OCH\\Lib\\site-packages\\sklearn\\pipeline.py:62: FutureWarning: This Pipeline instance is not fitted yet. Call 'fit' with appropriate arguments before using other methods such as transform, predict, etc. This will raise an error in 1.8 instead of the current warning.\n",
      "  warnings.warn(\n",
      "c:\\Users\\tomas\\.virtualenvs\\GET_YOUR_SALARY-sYgm8OCH\\Lib\\site-packages\\sklearn\\pipeline.py:62: FutureWarning: This Pipeline instance is not fitted yet. Call 'fit' with appropriate arguments before using other methods such as transform, predict, etc. This will raise an error in 1.8 instead of the current warning.\n",
      "  warnings.warn(\n",
      "c:\\Users\\tomas\\.virtualenvs\\GET_YOUR_SALARY-sYgm8OCH\\Lib\\site-packages\\sklearn\\pipeline.py:62: FutureWarning: This Pipeline instance is not fitted yet. Call 'fit' with appropriate arguments before using other methods such as transform, predict, etc. This will raise an error in 1.8 instead of the current warning.\n",
      "  warnings.warn(\n"
     ]
    },
    {
     "name": "stdout",
     "output_type": "stream",
     "text": [
      "\n",
      "Métricas para RandomForestRegressor:\n",
      "CV RMSE: 0.4186 (±0.0132)\n",
      "Test R²: 0.2768\n",
      "Test RMSE: 0.4165\n",
      "Test R² (original): 0.2303\n",
      "Test RMSE (original): 1091220.10\n",
      "========================================\n",
      "\n",
      "========================================\n",
      "Evaluando Gradient Boosting\n"
     ]
    },
    {
     "name": "stderr",
     "output_type": "stream",
     "text": [
      "c:\\Users\\tomas\\.virtualenvs\\GET_YOUR_SALARY-sYgm8OCH\\Lib\\site-packages\\sklearn\\pipeline.py:62: FutureWarning: This Pipeline instance is not fitted yet. Call 'fit' with appropriate arguments before using other methods such as transform, predict, etc. This will raise an error in 1.8 instead of the current warning.\n",
      "  warnings.warn(\n",
      "c:\\Users\\tomas\\.virtualenvs\\GET_YOUR_SALARY-sYgm8OCH\\Lib\\site-packages\\sklearn\\pipeline.py:62: FutureWarning: This Pipeline instance is not fitted yet. Call 'fit' with appropriate arguments before using other methods such as transform, predict, etc. This will raise an error in 1.8 instead of the current warning.\n",
      "  warnings.warn(\n",
      "c:\\Users\\tomas\\.virtualenvs\\GET_YOUR_SALARY-sYgm8OCH\\Lib\\site-packages\\sklearn\\pipeline.py:62: FutureWarning: This Pipeline instance is not fitted yet. Call 'fit' with appropriate arguments before using other methods such as transform, predict, etc. This will raise an error in 1.8 instead of the current warning.\n",
      "  warnings.warn(\n",
      "c:\\Users\\tomas\\.virtualenvs\\GET_YOUR_SALARY-sYgm8OCH\\Lib\\site-packages\\sklearn\\pipeline.py:62: FutureWarning: This Pipeline instance is not fitted yet. Call 'fit' with appropriate arguments before using other methods such as transform, predict, etc. This will raise an error in 1.8 instead of the current warning.\n",
      "  warnings.warn(\n",
      "c:\\Users\\tomas\\.virtualenvs\\GET_YOUR_SALARY-sYgm8OCH\\Lib\\site-packages\\sklearn\\pipeline.py:62: FutureWarning: This Pipeline instance is not fitted yet. Call 'fit' with appropriate arguments before using other methods such as transform, predict, etc. This will raise an error in 1.8 instead of the current warning.\n",
      "  warnings.warn(\n",
      "c:\\Users\\tomas\\.virtualenvs\\GET_YOUR_SALARY-sYgm8OCH\\Lib\\site-packages\\sklearn\\pipeline.py:62: FutureWarning: This Pipeline instance is not fitted yet. Call 'fit' with appropriate arguments before using other methods such as transform, predict, etc. This will raise an error in 1.8 instead of the current warning.\n",
      "  warnings.warn(\n",
      "c:\\Users\\tomas\\.virtualenvs\\GET_YOUR_SALARY-sYgm8OCH\\Lib\\site-packages\\sklearn\\pipeline.py:62: FutureWarning: This Pipeline instance is not fitted yet. Call 'fit' with appropriate arguments before using other methods such as transform, predict, etc. This will raise an error in 1.8 instead of the current warning.\n",
      "  warnings.warn(\n",
      "c:\\Users\\tomas\\.virtualenvs\\GET_YOUR_SALARY-sYgm8OCH\\Lib\\site-packages\\sklearn\\pipeline.py:62: FutureWarning: This Pipeline instance is not fitted yet. Call 'fit' with appropriate arguments before using other methods such as transform, predict, etc. This will raise an error in 1.8 instead of the current warning.\n",
      "  warnings.warn(\n",
      "c:\\Users\\tomas\\.virtualenvs\\GET_YOUR_SALARY-sYgm8OCH\\Lib\\site-packages\\sklearn\\pipeline.py:62: FutureWarning: This Pipeline instance is not fitted yet. Call 'fit' with appropriate arguments before using other methods such as transform, predict, etc. This will raise an error in 1.8 instead of the current warning.\n",
      "  warnings.warn(\n",
      "c:\\Users\\tomas\\.virtualenvs\\GET_YOUR_SALARY-sYgm8OCH\\Lib\\site-packages\\sklearn\\pipeline.py:62: FutureWarning: This Pipeline instance is not fitted yet. Call 'fit' with appropriate arguments before using other methods such as transform, predict, etc. This will raise an error in 1.8 instead of the current warning.\n",
      "  warnings.warn(\n",
      "c:\\Users\\tomas\\.virtualenvs\\GET_YOUR_SALARY-sYgm8OCH\\Lib\\site-packages\\sklearn\\pipeline.py:62: FutureWarning: This Pipeline instance is not fitted yet. Call 'fit' with appropriate arguments before using other methods such as transform, predict, etc. This will raise an error in 1.8 instead of the current warning.\n",
      "  warnings.warn(\n",
      "c:\\Users\\tomas\\.virtualenvs\\GET_YOUR_SALARY-sYgm8OCH\\Lib\\site-packages\\sklearn\\pipeline.py:62: FutureWarning: This Pipeline instance is not fitted yet. Call 'fit' with appropriate arguments before using other methods such as transform, predict, etc. This will raise an error in 1.8 instead of the current warning.\n",
      "  warnings.warn(\n",
      "c:\\Users\\tomas\\.virtualenvs\\GET_YOUR_SALARY-sYgm8OCH\\Lib\\site-packages\\sklearn\\pipeline.py:62: FutureWarning: This Pipeline instance is not fitted yet. Call 'fit' with appropriate arguments before using other methods such as transform, predict, etc. This will raise an error in 1.8 instead of the current warning.\n",
      "  warnings.warn(\n",
      "c:\\Users\\tomas\\.virtualenvs\\GET_YOUR_SALARY-sYgm8OCH\\Lib\\site-packages\\sklearn\\pipeline.py:62: FutureWarning: This Pipeline instance is not fitted yet. Call 'fit' with appropriate arguments before using other methods such as transform, predict, etc. This will raise an error in 1.8 instead of the current warning.\n",
      "  warnings.warn(\n"
     ]
    },
    {
     "name": "stdout",
     "output_type": "stream",
     "text": [
      "\n",
      "Métricas para GradientBoostingRegressor:\n",
      "CV RMSE: 0.4104 (±0.0114)\n",
      "Test R²: 0.2668\n",
      "Test RMSE: 0.4194\n",
      "Test R² (original): 0.2073\n",
      "Test RMSE (original): 1107395.89\n",
      "========================================\n",
      "\n",
      "========================================\n",
      "Evaluando XGBoost\n"
     ]
    },
    {
     "name": "stderr",
     "output_type": "stream",
     "text": [
      "c:\\Users\\tomas\\.virtualenvs\\GET_YOUR_SALARY-sYgm8OCH\\Lib\\site-packages\\sklearn\\pipeline.py:62: FutureWarning: This Pipeline instance is not fitted yet. Call 'fit' with appropriate arguments before using other methods such as transform, predict, etc. This will raise an error in 1.8 instead of the current warning.\n",
      "  warnings.warn(\n",
      "c:\\Users\\tomas\\.virtualenvs\\GET_YOUR_SALARY-sYgm8OCH\\Lib\\site-packages\\sklearn\\pipeline.py:62: FutureWarning: This Pipeline instance is not fitted yet. Call 'fit' with appropriate arguments before using other methods such as transform, predict, etc. This will raise an error in 1.8 instead of the current warning.\n",
      "  warnings.warn(\n",
      "c:\\Users\\tomas\\.virtualenvs\\GET_YOUR_SALARY-sYgm8OCH\\Lib\\site-packages\\sklearn\\pipeline.py:62: FutureWarning: This Pipeline instance is not fitted yet. Call 'fit' with appropriate arguments before using other methods such as transform, predict, etc. This will raise an error in 1.8 instead of the current warning.\n",
      "  warnings.warn(\n",
      "c:\\Users\\tomas\\.virtualenvs\\GET_YOUR_SALARY-sYgm8OCH\\Lib\\site-packages\\sklearn\\pipeline.py:62: FutureWarning: This Pipeline instance is not fitted yet. Call 'fit' with appropriate arguments before using other methods such as transform, predict, etc. This will raise an error in 1.8 instead of the current warning.\n",
      "  warnings.warn(\n",
      "c:\\Users\\tomas\\.virtualenvs\\GET_YOUR_SALARY-sYgm8OCH\\Lib\\site-packages\\sklearn\\pipeline.py:62: FutureWarning: This Pipeline instance is not fitted yet. Call 'fit' with appropriate arguments before using other methods such as transform, predict, etc. This will raise an error in 1.8 instead of the current warning.\n",
      "  warnings.warn(\n",
      "c:\\Users\\tomas\\.virtualenvs\\GET_YOUR_SALARY-sYgm8OCH\\Lib\\site-packages\\sklearn\\pipeline.py:62: FutureWarning: This Pipeline instance is not fitted yet. Call 'fit' with appropriate arguments before using other methods such as transform, predict, etc. This will raise an error in 1.8 instead of the current warning.\n",
      "  warnings.warn(\n",
      "c:\\Users\\tomas\\.virtualenvs\\GET_YOUR_SALARY-sYgm8OCH\\Lib\\site-packages\\sklearn\\pipeline.py:62: FutureWarning: This Pipeline instance is not fitted yet. Call 'fit' with appropriate arguments before using other methods such as transform, predict, etc. This will raise an error in 1.8 instead of the current warning.\n",
      "  warnings.warn(\n",
      "c:\\Users\\tomas\\.virtualenvs\\GET_YOUR_SALARY-sYgm8OCH\\Lib\\site-packages\\sklearn\\pipeline.py:62: FutureWarning: This Pipeline instance is not fitted yet. Call 'fit' with appropriate arguments before using other methods such as transform, predict, etc. This will raise an error in 1.8 instead of the current warning.\n",
      "  warnings.warn(\n",
      "c:\\Users\\tomas\\.virtualenvs\\GET_YOUR_SALARY-sYgm8OCH\\Lib\\site-packages\\sklearn\\pipeline.py:62: FutureWarning: This Pipeline instance is not fitted yet. Call 'fit' with appropriate arguments before using other methods such as transform, predict, etc. This will raise an error in 1.8 instead of the current warning.\n",
      "  warnings.warn(\n",
      "c:\\Users\\tomas\\.virtualenvs\\GET_YOUR_SALARY-sYgm8OCH\\Lib\\site-packages\\sklearn\\pipeline.py:62: FutureWarning: This Pipeline instance is not fitted yet. Call 'fit' with appropriate arguments before using other methods such as transform, predict, etc. This will raise an error in 1.8 instead of the current warning.\n",
      "  warnings.warn(\n",
      "c:\\Users\\tomas\\.virtualenvs\\GET_YOUR_SALARY-sYgm8OCH\\Lib\\site-packages\\sklearn\\pipeline.py:62: FutureWarning: This Pipeline instance is not fitted yet. Call 'fit' with appropriate arguments before using other methods such as transform, predict, etc. This will raise an error in 1.8 instead of the current warning.\n",
      "  warnings.warn(\n",
      "c:\\Users\\tomas\\.virtualenvs\\GET_YOUR_SALARY-sYgm8OCH\\Lib\\site-packages\\sklearn\\pipeline.py:62: FutureWarning: This Pipeline instance is not fitted yet. Call 'fit' with appropriate arguments before using other methods such as transform, predict, etc. This will raise an error in 1.8 instead of the current warning.\n",
      "  warnings.warn(\n",
      "c:\\Users\\tomas\\.virtualenvs\\GET_YOUR_SALARY-sYgm8OCH\\Lib\\site-packages\\sklearn\\pipeline.py:62: FutureWarning: This Pipeline instance is not fitted yet. Call 'fit' with appropriate arguments before using other methods such as transform, predict, etc. This will raise an error in 1.8 instead of the current warning.\n",
      "  warnings.warn(\n",
      "c:\\Users\\tomas\\.virtualenvs\\GET_YOUR_SALARY-sYgm8OCH\\Lib\\site-packages\\sklearn\\pipeline.py:62: FutureWarning: This Pipeline instance is not fitted yet. Call 'fit' with appropriate arguments before using other methods such as transform, predict, etc. This will raise an error in 1.8 instead of the current warning.\n",
      "  warnings.warn(\n"
     ]
    },
    {
     "name": "stdout",
     "output_type": "stream",
     "text": [
      "\n",
      "Métricas para XGBRegressor:\n",
      "CV RMSE: 0.4664 (±0.0196)\n",
      "Test R²: 0.0410\n",
      "Test RMSE: 0.4797\n",
      "Test R² (original): -0.0259\n",
      "Test RMSE (original): 1259801.75\n",
      "========================================\n",
      "\n",
      "========================================\n",
      "Evaluando SVM RBF\n"
     ]
    },
    {
     "name": "stderr",
     "output_type": "stream",
     "text": [
      "c:\\Users\\tomas\\.virtualenvs\\GET_YOUR_SALARY-sYgm8OCH\\Lib\\site-packages\\sklearn\\pipeline.py:62: FutureWarning: This Pipeline instance is not fitted yet. Call 'fit' with appropriate arguments before using other methods such as transform, predict, etc. This will raise an error in 1.8 instead of the current warning.\n",
      "  warnings.warn(\n",
      "c:\\Users\\tomas\\.virtualenvs\\GET_YOUR_SALARY-sYgm8OCH\\Lib\\site-packages\\sklearn\\pipeline.py:62: FutureWarning: This Pipeline instance is not fitted yet. Call 'fit' with appropriate arguments before using other methods such as transform, predict, etc. This will raise an error in 1.8 instead of the current warning.\n",
      "  warnings.warn(\n",
      "c:\\Users\\tomas\\.virtualenvs\\GET_YOUR_SALARY-sYgm8OCH\\Lib\\site-packages\\sklearn\\pipeline.py:62: FutureWarning: This Pipeline instance is not fitted yet. Call 'fit' with appropriate arguments before using other methods such as transform, predict, etc. This will raise an error in 1.8 instead of the current warning.\n",
      "  warnings.warn(\n",
      "c:\\Users\\tomas\\.virtualenvs\\GET_YOUR_SALARY-sYgm8OCH\\Lib\\site-packages\\sklearn\\pipeline.py:62: FutureWarning: This Pipeline instance is not fitted yet. Call 'fit' with appropriate arguments before using other methods such as transform, predict, etc. This will raise an error in 1.8 instead of the current warning.\n",
      "  warnings.warn(\n",
      "c:\\Users\\tomas\\.virtualenvs\\GET_YOUR_SALARY-sYgm8OCH\\Lib\\site-packages\\sklearn\\pipeline.py:62: FutureWarning: This Pipeline instance is not fitted yet. Call 'fit' with appropriate arguments before using other methods such as transform, predict, etc. This will raise an error in 1.8 instead of the current warning.\n",
      "  warnings.warn(\n",
      "c:\\Users\\tomas\\.virtualenvs\\GET_YOUR_SALARY-sYgm8OCH\\Lib\\site-packages\\sklearn\\pipeline.py:62: FutureWarning: This Pipeline instance is not fitted yet. Call 'fit' with appropriate arguments before using other methods such as transform, predict, etc. This will raise an error in 1.8 instead of the current warning.\n",
      "  warnings.warn(\n",
      "c:\\Users\\tomas\\.virtualenvs\\GET_YOUR_SALARY-sYgm8OCH\\Lib\\site-packages\\sklearn\\pipeline.py:62: FutureWarning: This Pipeline instance is not fitted yet. Call 'fit' with appropriate arguments before using other methods such as transform, predict, etc. This will raise an error in 1.8 instead of the current warning.\n",
      "  warnings.warn(\n",
      "c:\\Users\\tomas\\.virtualenvs\\GET_YOUR_SALARY-sYgm8OCH\\Lib\\site-packages\\sklearn\\pipeline.py:62: FutureWarning: This Pipeline instance is not fitted yet. Call 'fit' with appropriate arguments before using other methods such as transform, predict, etc. This will raise an error in 1.8 instead of the current warning.\n",
      "  warnings.warn(\n",
      "c:\\Users\\tomas\\.virtualenvs\\GET_YOUR_SALARY-sYgm8OCH\\Lib\\site-packages\\sklearn\\pipeline.py:62: FutureWarning: This Pipeline instance is not fitted yet. Call 'fit' with appropriate arguments before using other methods such as transform, predict, etc. This will raise an error in 1.8 instead of the current warning.\n",
      "  warnings.warn(\n",
      "c:\\Users\\tomas\\.virtualenvs\\GET_YOUR_SALARY-sYgm8OCH\\Lib\\site-packages\\sklearn\\pipeline.py:62: FutureWarning: This Pipeline instance is not fitted yet. Call 'fit' with appropriate arguments before using other methods such as transform, predict, etc. This will raise an error in 1.8 instead of the current warning.\n",
      "  warnings.warn(\n",
      "c:\\Users\\tomas\\.virtualenvs\\GET_YOUR_SALARY-sYgm8OCH\\Lib\\site-packages\\sklearn\\pipeline.py:62: FutureWarning: This Pipeline instance is not fitted yet. Call 'fit' with appropriate arguments before using other methods such as transform, predict, etc. This will raise an error in 1.8 instead of the current warning.\n",
      "  warnings.warn(\n",
      "c:\\Users\\tomas\\.virtualenvs\\GET_YOUR_SALARY-sYgm8OCH\\Lib\\site-packages\\sklearn\\pipeline.py:62: FutureWarning: This Pipeline instance is not fitted yet. Call 'fit' with appropriate arguments before using other methods such as transform, predict, etc. This will raise an error in 1.8 instead of the current warning.\n",
      "  warnings.warn(\n",
      "c:\\Users\\tomas\\.virtualenvs\\GET_YOUR_SALARY-sYgm8OCH\\Lib\\site-packages\\sklearn\\pipeline.py:62: FutureWarning: This Pipeline instance is not fitted yet. Call 'fit' with appropriate arguments before using other methods such as transform, predict, etc. This will raise an error in 1.8 instead of the current warning.\n",
      "  warnings.warn(\n",
      "c:\\Users\\tomas\\.virtualenvs\\GET_YOUR_SALARY-sYgm8OCH\\Lib\\site-packages\\sklearn\\pipeline.py:62: FutureWarning: This Pipeline instance is not fitted yet. Call 'fit' with appropriate arguments before using other methods such as transform, predict, etc. This will raise an error in 1.8 instead of the current warning.\n",
      "  warnings.warn(\n"
     ]
    },
    {
     "name": "stdout",
     "output_type": "stream",
     "text": [
      "\n",
      "Métricas para SVR:\n",
      "CV RMSE: 0.4895 (±0.0081)\n",
      "Test R²: -0.0062\n",
      "Test RMSE: 0.4913\n",
      "Test R² (original): -0.0480\n",
      "Test RMSE (original): 1273319.18\n",
      "========================================\n"
     ]
    }
   ],
   "source": [
    "for model_name, model in non_linear_models.items():\n",
    "    print(f\"\\n{'='*40}\")\n",
    "    print(f\"Evaluando {model_name}\")\n",
    "    get_metrics_by_model(model)\n",
    "    print(f\"{'='*40}\")"
   ]
  },
  {
   "cell_type": "code",
   "execution_count": 119,
   "id": "c59d7d6d",
   "metadata": {},
   "outputs": [
    {
     "name": "stdout",
     "output_type": "stream",
     "text": [
      "\n",
      "=== Optimizando Random Forest ===\n",
      "Mejores parámetros (Random Forest):\n",
      "{'model__max_depth': 10, 'model__max_features': 'log2', 'model__min_samples_split': 19, 'model__n_estimators': 317}\n",
      "RMSE promedio (CV): 0.4089\n",
      "\n",
      "=== Optimizando Gradient Boosting ===\n",
      "Mejores parámetros (Gradient Boosting):\n",
      "{'model__learning_rate': np.float64(0.03102740950912839), 'model__max_depth': 3, 'model__n_estimators': 200, 'model__subsample': np.float64(0.6424202471887338)}\n",
      "RMSE promedio (CV): 0.4079\n",
      "\n",
      "=== Optimizando XGBoost ===\n",
      "Mejores parámetros (XGBoost):\n",
      "{'model__colsample_bytree': np.float64(0.918855052953664), 'model__gamma': np.float64(0.33784505851964036), 'model__learning_rate': np.float64(0.23056483577223164), 'model__max_depth': 4, 'model__n_estimators': 250}\n",
      "RMSE promedio (CV): 0.4080\n",
      "\n",
      "=== Optimizando SVM RBF ===\n",
      "Mejores parámetros (SVM RBF):\n",
      "{'model__C': np.float64(2.2844556850020523), 'model__epsilon': np.float64(0.3666223936114975), 'model__gamma': np.float64(0.019158219548093176)}\n",
      "RMSE promedio (CV): 0.4174\n"
     ]
    },
    {
     "name": "stderr",
     "output_type": "stream",
     "text": [
      "c:\\Users\\tomas\\.virtualenvs\\GET_YOUR_SALARY-sYgm8OCH\\Lib\\site-packages\\sklearn\\pipeline.py:62: FutureWarning: This Pipeline instance is not fitted yet. Call 'fit' with appropriate arguments before using other methods such as transform, predict, etc. This will raise an error in 1.8 instead of the current warning.\n",
      "  warnings.warn(\n",
      "c:\\Users\\tomas\\.virtualenvs\\GET_YOUR_SALARY-sYgm8OCH\\Lib\\site-packages\\sklearn\\pipeline.py:62: FutureWarning: This Pipeline instance is not fitted yet. Call 'fit' with appropriate arguments before using other methods such as transform, predict, etc. This will raise an error in 1.8 instead of the current warning.\n",
      "  warnings.warn(\n",
      "c:\\Users\\tomas\\.virtualenvs\\GET_YOUR_SALARY-sYgm8OCH\\Lib\\site-packages\\sklearn\\pipeline.py:62: FutureWarning: This Pipeline instance is not fitted yet. Call 'fit' with appropriate arguments before using other methods such as transform, predict, etc. This will raise an error in 1.8 instead of the current warning.\n",
      "  warnings.warn(\n",
      "c:\\Users\\tomas\\.virtualenvs\\GET_YOUR_SALARY-sYgm8OCH\\Lib\\site-packages\\sklearn\\pipeline.py:62: FutureWarning: This Pipeline instance is not fitted yet. Call 'fit' with appropriate arguments before using other methods such as transform, predict, etc. This will raise an error in 1.8 instead of the current warning.\n",
      "  warnings.warn(\n",
      "c:\\Users\\tomas\\.virtualenvs\\GET_YOUR_SALARY-sYgm8OCH\\Lib\\site-packages\\sklearn\\pipeline.py:62: FutureWarning: This Pipeline instance is not fitted yet. Call 'fit' with appropriate arguments before using other methods such as transform, predict, etc. This will raise an error in 1.8 instead of the current warning.\n",
      "  warnings.warn(\n",
      "c:\\Users\\tomas\\.virtualenvs\\GET_YOUR_SALARY-sYgm8OCH\\Lib\\site-packages\\sklearn\\pipeline.py:62: FutureWarning: This Pipeline instance is not fitted yet. Call 'fit' with appropriate arguments before using other methods such as transform, predict, etc. This will raise an error in 1.8 instead of the current warning.\n",
      "  warnings.warn(\n",
      "c:\\Users\\tomas\\.virtualenvs\\GET_YOUR_SALARY-sYgm8OCH\\Lib\\site-packages\\sklearn\\pipeline.py:62: FutureWarning: This Pipeline instance is not fitted yet. Call 'fit' with appropriate arguments before using other methods such as transform, predict, etc. This will raise an error in 1.8 instead of the current warning.\n",
      "  warnings.warn(\n",
      "c:\\Users\\tomas\\.virtualenvs\\GET_YOUR_SALARY-sYgm8OCH\\Lib\\site-packages\\sklearn\\pipeline.py:62: FutureWarning: This Pipeline instance is not fitted yet. Call 'fit' with appropriate arguments before using other methods such as transform, predict, etc. This will raise an error in 1.8 instead of the current warning.\n",
      "  warnings.warn(\n"
     ]
    },
    {
     "name": "stdout",
     "output_type": "stream",
     "text": [
      "\n",
      "Resultados Finales:\n",
      "                       RMSE        R2  \\\n",
      "Gradient Boosting  0.415292  0.281148   \n",
      "Random Forest      0.415508  0.280397   \n",
      "XGBoost            0.417443  0.273679   \n",
      "SVM RBF            0.419149  0.267733   \n",
      "\n",
      "                                                              Params  \n",
      "Gradient Boosting  {'model__learning_rate': 0.03102740950912839, ...  \n",
      "Random Forest      {'model__max_depth': 10, 'model__max_features'...  \n",
      "XGBoost            {'model__colsample_bytree': 0.918855052953664,...  \n",
      "SVM RBF            {'model__C': 2.2844556850020523, 'model__epsil...  \n"
     ]
    }
   ],
   "source": [
    "from sklearn.model_selection import RandomizedSearchCV\n",
    "from scipy.stats import randint, uniform, loguniform\n",
    "\n",
    "# 1. Definir los espacios de búsqueda para cada modelo\n",
    "param_distributions = {\n",
    "    \"Random Forest\": {\n",
    "        'model__n_estimators': randint(100, 500),\n",
    "        'model__max_depth': [None, 10, 20, 30],\n",
    "        'model__min_samples_split': randint(2, 20),\n",
    "        'model__max_features': ['sqrt', 'log2', None]\n",
    "    },\n",
    "    \"Gradient Boosting\": {\n",
    "        'model__n_estimators': randint(100, 500),\n",
    "        'model__learning_rate': loguniform(1e-3, 1e0),\n",
    "        'model__max_depth': randint(3, 10),\n",
    "        'model__subsample': uniform(0.5, 0.5)\n",
    "    },\n",
    "    \"XGBoost\": {\n",
    "        'model__n_estimators': randint(100, 500),\n",
    "        'model__learning_rate': uniform(0.01, 0.3),\n",
    "        'model__max_depth': randint(3, 10),\n",
    "        'model__colsample_bytree': uniform(0.5, 0.5),\n",
    "        'model__gamma': uniform(0, 0.5)\n",
    "    },\n",
    "    \"SVM RBF\": {\n",
    "        'model__C': loguniform(1e0, 1e3),\n",
    "        'model__gamma': loguniform(1e-4, 1e-1),\n",
    "        'model__epsilon': uniform(0.01, 0.5)\n",
    "    }\n",
    "}\n",
    "\n",
    "# 2. Función para realizar la búsqueda\n",
    "def tune_hyperparameters(model_name, base_model, X, y):\n",
    "    # Crear pipeline\n",
    "    pipeline = SalaryPredictionPipeline(model=base_model).build_pipeline()\n",
    "    \n",
    "    # Configurar búsqueda\n",
    "    search = RandomizedSearchCV(\n",
    "        estimator=pipeline,\n",
    "        param_distributions=param_distributions[model_name],\n",
    "        n_iter=50,\n",
    "        cv=5,\n",
    "        scoring='neg_root_mean_squared_error',\n",
    "        random_state=42,\n",
    "        n_jobs=-1\n",
    "    )\n",
    "    \n",
    "    # Ejecutar búsqueda\n",
    "    search.fit(X, y)\n",
    "    \n",
    "    return search\n",
    "\n",
    "# 3. Ejecutar para cada modelo\n",
    "best_models = {}\n",
    "for model_name, model in non_linear_models.items():\n",
    "    print(f\"\\n=== Optimizando {model_name} ===\")\n",
    "    search_result = tune_hyperparameters(model_name, model, X_train, y_train)\n",
    "    \n",
    "    # Guardar mejor modelo\n",
    "    best_models[model_name] = {\n",
    "        'model': search_result.best_estimator_,\n",
    "        'params': search_result.best_params_,\n",
    "        'score': search_result.best_score_\n",
    "    }\n",
    "    \n",
    "    print(f\"Mejores parámetros ({model_name}):\")\n",
    "    print(search_result.best_params_)\n",
    "    print(f\"RMSE promedio (CV): {-search_result.best_score_:.4f}\")\n",
    "\n",
    "# 4. Función para evaluar los mejores modelos\n",
    "def evaluate_best_models(best_models_dict, X_test, y_test):\n",
    "    results = {}\n",
    "    for name, model_info in best_models_dict.items():\n",
    "        model = model_info['model']\n",
    "        y_pred = model.predict(X_test)\n",
    "        \n",
    "        results[name] = {\n",
    "            'RMSE': np.sqrt(mean_squared_error(y_test, y_pred)),\n",
    "            'R2': r2_score(y_test, y_pred),\n",
    "            'Params': model_info['params']\n",
    "        }\n",
    "    return pd.DataFrame(results).T\n",
    "\n",
    "# 5. Evaluación final\n",
    "final_results = evaluate_best_models(best_models, X_test, y_test)\n",
    "print(\"\\nResultados Finales:\")\n",
    "print(final_results.sort_values('RMSE'))"
   ]
  },
  {
   "cell_type": "code",
   "execution_count": 123,
   "id": "558d64bb",
   "metadata": {},
   "outputs": [
    {
     "name": "stderr",
     "output_type": "stream",
     "text": [
      "c:\\Users\\tomas\\.virtualenvs\\GET_YOUR_SALARY-sYgm8OCH\\Lib\\site-packages\\sklearn\\pipeline.py:62: FutureWarning: This Pipeline instance is not fitted yet. Call 'fit' with appropriate arguments before using other methods such as transform, predict, etc. This will raise an error in 1.8 instead of the current warning.\n",
      "  warnings.warn(\n",
      "c:\\Users\\tomas\\.virtualenvs\\GET_YOUR_SALARY-sYgm8OCH\\Lib\\site-packages\\sklearn\\pipeline.py:62: FutureWarning: This Pipeline instance is not fitted yet. Call 'fit' with appropriate arguments before using other methods such as transform, predict, etc. This will raise an error in 1.8 instead of the current warning.\n",
      "  warnings.warn(\n",
      "c:\\Users\\tomas\\.virtualenvs\\GET_YOUR_SALARY-sYgm8OCH\\Lib\\site-packages\\sklearn\\pipeline.py:62: FutureWarning: This Pipeline instance is not fitted yet. Call 'fit' with appropriate arguments before using other methods such as transform, predict, etc. This will raise an error in 1.8 instead of the current warning.\n",
      "  warnings.warn(\n",
      "c:\\Users\\tomas\\.virtualenvs\\GET_YOUR_SALARY-sYgm8OCH\\Lib\\site-packages\\sklearn\\pipeline.py:62: FutureWarning: This Pipeline instance is not fitted yet. Call 'fit' with appropriate arguments before using other methods such as transform, predict, etc. This will raise an error in 1.8 instead of the current warning.\n",
      "  warnings.warn(\n",
      "c:\\Users\\tomas\\.virtualenvs\\GET_YOUR_SALARY-sYgm8OCH\\Lib\\site-packages\\sklearn\\pipeline.py:62: FutureWarning: This Pipeline instance is not fitted yet. Call 'fit' with appropriate arguments before using other methods such as transform, predict, etc. This will raise an error in 1.8 instead of the current warning.\n",
      "  warnings.warn(\n",
      "c:\\Users\\tomas\\.virtualenvs\\GET_YOUR_SALARY-sYgm8OCH\\Lib\\site-packages\\sklearn\\pipeline.py:62: FutureWarning: This Pipeline instance is not fitted yet. Call 'fit' with appropriate arguments before using other methods such as transform, predict, etc. This will raise an error in 1.8 instead of the current warning.\n",
      "  warnings.warn(\n",
      "c:\\Users\\tomas\\.virtualenvs\\GET_YOUR_SALARY-sYgm8OCH\\Lib\\site-packages\\sklearn\\pipeline.py:62: FutureWarning: This Pipeline instance is not fitted yet. Call 'fit' with appropriate arguments before using other methods such as transform, predict, etc. This will raise an error in 1.8 instead of the current warning.\n",
      "  warnings.warn(\n",
      "c:\\Users\\tomas\\.virtualenvs\\GET_YOUR_SALARY-sYgm8OCH\\Lib\\site-packages\\sklearn\\pipeline.py:62: FutureWarning: This Pipeline instance is not fitted yet. Call 'fit' with appropriate arguments before using other methods such as transform, predict, etc. This will raise an error in 1.8 instead of the current warning.\n",
      "  warnings.warn(\n",
      "c:\\Users\\tomas\\.virtualenvs\\GET_YOUR_SALARY-sYgm8OCH\\Lib\\site-packages\\sklearn\\pipeline.py:62: FutureWarning: This Pipeline instance is not fitted yet. Call 'fit' with appropriate arguments before using other methods such as transform, predict, etc. This will raise an error in 1.8 instead of the current warning.\n",
      "  warnings.warn(\n",
      "c:\\Users\\tomas\\.virtualenvs\\GET_YOUR_SALARY-sYgm8OCH\\Lib\\site-packages\\sklearn\\pipeline.py:62: FutureWarning: This Pipeline instance is not fitted yet. Call 'fit' with appropriate arguments before using other methods such as transform, predict, etc. This will raise an error in 1.8 instead of the current warning.\n",
      "  warnings.warn(\n"
     ]
    },
    {
     "name": "stdout",
     "output_type": "stream",
     "text": [
      "\n",
      "Métricas para GradientBoostingRegressor:\n",
      "CV RMSE: 0.4079 (±0.0090)\n",
      "Test R²: 0.2822\n",
      "Test RMSE: 0.4150\n",
      "Test R² (original): 0.2245\n",
      "Test RMSE (original): 1095340.41\n"
     ]
    },
    {
     "name": "stderr",
     "output_type": "stream",
     "text": [
      "c:\\Users\\tomas\\.virtualenvs\\GET_YOUR_SALARY-sYgm8OCH\\Lib\\site-packages\\sklearn\\pipeline.py:62: FutureWarning: This Pipeline instance is not fitted yet. Call 'fit' with appropriate arguments before using other methods such as transform, predict, etc. This will raise an error in 1.8 instead of the current warning.\n",
      "  warnings.warn(\n",
      "c:\\Users\\tomas\\.virtualenvs\\GET_YOUR_SALARY-sYgm8OCH\\Lib\\site-packages\\sklearn\\pipeline.py:62: FutureWarning: This Pipeline instance is not fitted yet. Call 'fit' with appropriate arguments before using other methods such as transform, predict, etc. This will raise an error in 1.8 instead of the current warning.\n",
      "  warnings.warn(\n",
      "c:\\Users\\tomas\\.virtualenvs\\GET_YOUR_SALARY-sYgm8OCH\\Lib\\site-packages\\sklearn\\pipeline.py:62: FutureWarning: This Pipeline instance is not fitted yet. Call 'fit' with appropriate arguments before using other methods such as transform, predict, etc. This will raise an error in 1.8 instead of the current warning.\n",
      "  warnings.warn(\n",
      "c:\\Users\\tomas\\.virtualenvs\\GET_YOUR_SALARY-sYgm8OCH\\Lib\\site-packages\\sklearn\\pipeline.py:62: FutureWarning: This Pipeline instance is not fitted yet. Call 'fit' with appropriate arguments before using other methods such as transform, predict, etc. This will raise an error in 1.8 instead of the current warning.\n",
      "  warnings.warn(\n"
     ]
    }
   ],
   "source": [
    "gbr = GradientBoostingRegressor(n_estimators=200, max_depth=3, subsample=0.6424202471887338, learning_rate=0.03102740950912839)\n",
    "get_metrics_by_model(gbr)"
   ]
  }
 ],
 "metadata": {
  "kernelspec": {
   "display_name": "GET_YOUR_SALARY-sYgm8OCH",
   "language": "python",
   "name": "python3"
  },
  "language_info": {
   "codemirror_mode": {
    "name": "ipython",
    "version": 3
   },
   "file_extension": ".py",
   "mimetype": "text/x-python",
   "name": "python",
   "nbconvert_exporter": "python",
   "pygments_lexer": "ipython3",
   "version": "3.12.2"
  }
 },
 "nbformat": 4,
 "nbformat_minor": 5
}
