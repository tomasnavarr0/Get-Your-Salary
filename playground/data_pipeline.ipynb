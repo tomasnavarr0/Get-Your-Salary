{
 "cells": [
  {
   "cell_type": "code",
   "execution_count": null,
   "id": "24f42b84",
   "metadata": {},
   "outputs": [],
   "source": [
    "import pandas as pd \n",
    "import os\n",
    "from sklearn.base import BaseEstimator, TransformerMixin\n",
    "from sklearn.compose import ColumnTransformer\n",
    "from sklearn.impute import SimpleImputer\n",
    "from sklearn.pipeline import Pipeline\n",
    "from sklearn.preprocessing import OneHotEncoder, StandardScaler, OrdinalEncoder\n",
    "import numpy as np\n",
    "from typing_extensions import Self\n",
    "from typing import Any\n",
    "from sklearn.model_selection import train_test_split\n",
    "from sklearn.linear_model import LinearRegression, RidgeCV, LassoCV, ElasticNetCV, MultiTaskElasticNetCV, LassoLars, BayesianRidge, ARDRegression, SGDRegressor\n",
    "from sklearn.ensemble import RandomForestRegressor, GradientBoostingRegressor\n",
    "from sklearn.metrics import mean_squared_error, mean_absolute_error, r2_score\n",
    "from sklearn.feature_selection import SelectFromModel\n",
    "from sklearn.model_selection import cross_val_score  #\n",
    "os.chdir(\"../\")"
   ]
  },
  {
   "cell_type": "code",
   "execution_count": null,
   "id": "6a88a6ff",
   "metadata": {},
   "outputs": [],
   "source": [
    "df = pd.read_csv(r\"data\\tech_salaries_filtered_no_others.csv\")"
   ]
  },
  {
   "cell_type": "code",
   "execution_count": null,
   "id": "288e05c1",
   "metadata": {},
   "outputs": [],
   "source": [
    "df = pd.read_csv(r\"data\\tech_salaries_filtered_no_others.csv\")\n",
    "df['contrato'] = df['contrato'].replace({\n",
    "    'Tercerizado (trabajo a través de consultora o agencia)': 'Contractor',\n",
    "    'Freelance': 'Contractor',\n",
    "    \"Participación societaria en una cooperativa\": 'Contractor',\n",
    "})\n",
    "X = df.drop('salario', axis=1)\n",
    "y = df['salario']\n",
    "y_log = np.log1p(y)\n",
    "\n",
    "X_train, X_test, y_train, y_test = train_test_split(\n",
    "    X, y_log, test_size=0.2, random_state=42\n",
    ")"
   ]
  },
  {
   "cell_type": "markdown",
   "id": "2e511433",
   "metadata": {},
   "source": [
    "### Modelos Lineales"
   ]
  },
  {
   "cell_type": "code",
   "execution_count": null,
   "id": "19be1459",
   "metadata": {},
   "outputs": [],
   "source": [
    "get_metrics_by_model(regressor)"
   ]
  },
  {
   "cell_type": "code",
   "execution_count": null,
   "id": "cdb96790",
   "metadata": {},
   "outputs": [],
   "source": [
    "ridge = RidgeCV()\n",
    "get_metrics_by_model(ridge)"
   ]
  },
  {
   "cell_type": "code",
   "execution_count": null,
   "id": "a13ea2ae",
   "metadata": {},
   "outputs": [],
   "source": [
    "lasso = LassoCV()\n",
    "get_metrics_by_model(lasso)"
   ]
  },
  {
   "cell_type": "code",
   "execution_count": null,
   "id": "b0322e8b",
   "metadata": {},
   "outputs": [],
   "source": [
    "elastic_net = ElasticNetCV()\n",
    "get_metrics_by_model(elastic_net)"
   ]
  },
  {
   "cell_type": "code",
   "execution_count": null,
   "id": "f137317f",
   "metadata": {},
   "outputs": [],
   "source": [
    "lasso_lars = LassoLars()\n",
    "get_metrics_by_model(lasso_lars)"
   ]
  },
  {
   "cell_type": "code",
   "execution_count": null,
   "id": "7082cc13",
   "metadata": {},
   "outputs": [],
   "source": [
    "lasso_lars = BayesianRidge()\n",
    "get_metrics_by_model(lasso_lars)"
   ]
  },
  {
   "cell_type": "code",
   "execution_count": null,
   "id": "5c46d10b",
   "metadata": {},
   "outputs": [],
   "source": [
    "adr = ARDRegression()\n",
    "get_metrics_by_model(adr)"
   ]
  },
  {
   "cell_type": "markdown",
   "id": "d2a4ee0f",
   "metadata": {},
   "source": [
    "### Modelos no lineales (y pipeline no lineal)"
   ]
  },
  {
   "cell_type": "code",
   "execution_count": null,
   "id": "f3c1684f",
   "metadata": {},
   "outputs": [],
   "source": [
    "from sklearn.ensemble import RandomForestRegressor, GradientBoostingRegressor\n",
    "from sklearn.svm import SVR\n",
    "from xgboost import XGBRegressor"
   ]
  },
  {
   "cell_type": "code",
   "execution_count": null,
   "id": "064295a2",
   "metadata": {},
   "outputs": [],
   "source": [
    "non_linear_models = {\n",
    "    \"Random Forest\": RandomForestRegressor(n_estimators=200, max_depth=10),\n",
    "    \"Gradient Boosting\": GradientBoostingRegressor(n_estimators=150, learning_rate=0.1),\n",
    "    \"XGBoost\": XGBRegressor(objective='reg:squarederror', n_estimators=150),\n",
    "    \"SVM RBF\": SVR(kernel='rbf', C=1.0, epsilon=0.1)\n",
    "}"
   ]
  },
  {
   "cell_type": "code",
   "execution_count": null,
   "id": "404b82f1",
   "metadata": {},
   "outputs": [],
   "source": [
    "def get_metrics_by_model(model: Any, use_original_scale: bool = True) -> None:\n",
    "    pipeline = SalaryPredictionPipeline(model=model)\n",
    "    model_pipeline = pipeline.build_pipeline()\n",
    "    \n",
    "    # Validación cruzada para modelos no lineales\n",
    "    cv_scores = cross_val_score(\n",
    "        model_pipeline,\n",
    "        X_train,\n",
    "        y_train,\n",
    "        cv=5,\n",
    "        scoring='neg_root_mean_squared_error'\n",
    "    )\n",
    "    \n",
    "    model_pipeline_fitted = model_pipeline.fit(X_train, y_train)\n",
    "    y_pred = model_pipeline_fitted.predict(X_test)\n",
    "\n",
    "    # Cálculo de métricas mejorado\n",
    "    metrics = {\n",
    "        'cv_rmse_mean': abs(cv_scores.mean()),\n",
    "        'cv_rmse_std': cv_scores.std(),\n",
    "        'r2': model_pipeline_fitted.score(X_test, y_test),\n",
    "        'rmse': np.sqrt(mean_squared_error(y_test, y_pred))\n",
    "    }\n",
    "    \n",
    "    if use_original_scale:\n",
    "        y_test_orig = np.expm1(y_test)\n",
    "        y_pred_orig = np.expm1(y_pred)\n",
    "        metrics.update({\n",
    "            'r2_original': r2_score(y_test_orig, y_pred_orig),\n",
    "            'rmse_original': np.sqrt(mean_squared_error(y_test_orig, y_pred_orig))\n",
    "        })\n",
    "    \n",
    "    print(f\"\\nMétricas para {model.__class__.__name__}:\")\n",
    "    print(f\"CV RMSE: {metrics['cv_rmse_mean']:.4f} (±{metrics['cv_rmse_std']:.4f})\")\n",
    "    print(f\"Test R²: {metrics['r2']:.4f}\")\n",
    "    print(f\"Test RMSE: {metrics['rmse']:.4f}\")\n",
    "    if use_original_scale:\n",
    "        print(f\"Test R² (original): {metrics['r2_original']:.4f}\")\n",
    "        print(f\"Test RMSE (original): {metrics['rmse_original']:.2f}\")"
   ]
  },
  {
   "cell_type": "code",
   "execution_count": null,
   "id": "4a62beaf",
   "metadata": {},
   "outputs": [],
   "source": [
    "for model_name, model in non_linear_models.items():\n",
    "    print(f\"\\n{'='*40}\")\n",
    "    print(f\"Evaluando {model_name}\")\n",
    "    get_metrics_by_model(model)\n",
    "    print(f\"{'='*40}\")"
   ]
  },
  {
   "cell_type": "markdown",
   "id": "3e47f75d",
   "metadata": {},
   "source": [
    "### Best Model"
   ]
  },
  {
   "cell_type": "code",
   "execution_count": null,
   "id": "558d64bb",
   "metadata": {},
   "outputs": [],
   "source": [
    "gbr = GradientBoostingRegressor(n_estimators=200, max_depth=3, subsample=0.6424202471887338, learning_rate=0.03102740950912839)\n",
    "get_metrics_by_model(gbr)"
   ]
  },
  {
   "cell_type": "markdown",
   "id": "20cf25d6",
   "metadata": {},
   "source": [
    "### Nuevo enfoque"
   ]
  },
  {
   "cell_type": "code",
   "execution_count": null,
   "id": "7b4be06d",
   "metadata": {},
   "outputs": [],
   "source": [
    "\n",
    "user_input = {\n",
    "    'dedicacion': 'Full-Time',\n",
    "    'contrato': 'Staff (planta permanente)',\n",
    "    'cantidad_de_personas_en_tu_organizacion': 'Más de 10000 personas',\n",
    "    'modalidad_de_trabajo': '100% remoto',\n",
    "    'seniority': 'Semi-Senior',\n",
    "    'marvin_rol': 4,\n",
    "    'anos_de_experiencia': 2,\n",
    "    'antiguedad_en_la_empresa_actual': 2,\n",
    "    'anos_en_el_puesto_actual': 2,\n",
    "    'cuantas_personas_tenes_a_cargo': 0,\n",
    "    'edad': 24\n",
    "}"
   ]
  },
  {
   "cell_type": "code",
   "execution_count": null,
   "id": "0ab0e13c",
   "metadata": {},
   "outputs": [],
   "source": [
    "def predict_salary(user_data: dict, pipeline: SalaryPredictionPipeline) -> float:\n",
    "    input_df = pd.DataFrame([user_data])\n",
    "    log_pred = pipeline.predict(input_df)[0]\n",
    "    return np.expm1(log_pred)"
   ]
  },
  {
   "cell_type": "code",
   "execution_count": null,
   "id": "e8452f56",
   "metadata": {},
   "outputs": [],
   "source": [
    "pipeline = SalaryPredictionPipeline(model=gbr)\n",
    "pipeline.fit(X_train, y_train)"
   ]
  },
  {
   "cell_type": "code",
   "execution_count": null,
   "id": "d18a6e5e",
   "metadata": {},
   "outputs": [],
   "source": [
    "predicted_salary = predict_salary(user_input, pipeline)\n",
    "print(f\"Salario estimado: ${predicted_salary:,.2f} ARS\")"
   ]
  }
 ],
 "metadata": {
  "kernelspec": {
   "display_name": "GET_YOUR_SALARY-sYgm8OCH",
   "language": "python",
   "name": "python3"
  },
  "language_info": {
   "codemirror_mode": {
    "name": "ipython",
    "version": 3
   },
   "file_extension": ".py",
   "mimetype": "text/x-python",
   "name": "python",
   "nbconvert_exporter": "python",
   "pygments_lexer": "ipython3",
   "version": "3.12.2"
  }
 },
 "nbformat": 4,
 "nbformat_minor": 5
}
