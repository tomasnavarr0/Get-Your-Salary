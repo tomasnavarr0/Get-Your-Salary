{
 "cells": [
  {
   "cell_type": "code",
   "execution_count": 1,
   "id": "7f045de8",
   "metadata": {},
   "outputs": [],
   "source": [
    "import os\n",
    "os.chdir(\"..\")"
   ]
  },
  {
   "cell_type": "code",
   "execution_count": 2,
   "id": "815a9d43",
   "metadata": {},
   "outputs": [],
   "source": [
    "from app.pipelines import SalaryPredictionPipeline\n",
    "from sklearn.ensemble import GradientBoostingRegressor\n",
    "import pandas as pd\n",
    "import numpy as np\n",
    "import joblib\n",
    "from sklearn.model_selection import train_test_split\n",
    "from app.salary_predictor import SalaryPredictor"
   ]
  },
  {
   "cell_type": "code",
   "execution_count": 4,
   "id": "bea4ad5c",
   "metadata": {},
   "outputs": [],
   "source": [
    "df = pd.read_csv(r\"/workspace/data/tech_salaries_filtered_no_others.csv\")\n",
    "df['contrato'] = df['contrato'].replace({\n",
    "    'Tercerizado (trabajo a través de consultora o agencia)': 'Contractor',\n",
    "    'Freelance': 'Contractor',\n",
    "    \"Participación societaria en una cooperativa\": 'Contractor',\n",
    "})\n",
    "X = df.drop('salario', axis=1)\n",
    "y = df['salario']\n",
    "y_log = np.log1p(y)\n",
    "\n",
    "X_train, X_test, y_train, y_test = train_test_split(\n",
    "    X, y_log, test_size=0.15, random_state=42\n",
    ")"
   ]
  },
  {
   "cell_type": "code",
   "execution_count": 11,
   "id": "b0cef9e7",
   "metadata": {},
   "outputs": [
    {
     "data": {
      "text/plain": [
       "array(['Full-Time', 'Part-Time'], dtype=object)"
      ]
     },
     "execution_count": 11,
     "metadata": {},
     "output_type": "execute_result"
    }
   ],
   "source": [
    "df.dedicacion.unique()"
   ]
  },
  {
   "cell_type": "code",
   "execution_count": null,
   "id": "4c4110f0",
   "metadata": {},
   "outputs": [],
   "source": [
    "gbr = GradientBoostingRegressor(n_estimators=200, max_depth=3, subsample=0.6424202471887338, learning_rate=0.03102740950912839)"
   ]
  },
  {
   "cell_type": "code",
   "execution_count": null,
   "id": "ae5abbc8",
   "metadata": {},
   "outputs": [
    {
     "data": {
      "text/plain": [
       "<app.pipelines.salary.SalaryPredictionPipeline at 0x7f649d0e0920>"
      ]
     },
     "execution_count": 16,
     "metadata": {},
     "output_type": "execute_result"
    }
   ],
   "source": [
    "gbr = GradientBoostingRegressor(n_estimators=200, max_depth=3, subsample=0.6424202471887338, learning_rate=0.03102740950912839)\n",
    "pipeline = SalaryPredictionPipeline(gbr)\n",
    "pipeline.build_pipeline()\n",
    "pipeline.fit(X_train, y_train)"
   ]
  },
  {
   "cell_type": "code",
   "execution_count": null,
   "id": "f8668f5c",
   "metadata": {},
   "outputs": [
    {
     "data": {
      "text/plain": [
       "['models/metadata.pkl']"
      ]
     },
     "execution_count": 17,
     "metadata": {},
     "output_type": "execute_result"
    }
   ],
   "source": [
    "import joblib\n",
    "from pathlib import Path\n",
    "\n",
    "# Guardar todo el objeto pipeline\n",
    "MODEL_PATH = Path(\"models\")\n",
    "MODEL_PATH.mkdir(exist_ok=True)\n",
    "\n",
    "joblib.dump(pipeline, MODEL_PATH / \"salary_pipeline_v1.pkl\")\n",
    "\n",
    "# Opcional: Guardar metadata adicional\n",
    "metadata = {\n",
    "    \"model_version\": \"1.0\",\n",
    "    \"training_date\": \"2024-02-20\",\n",
    "    \"features\": pipeline.numerical_columns + pipeline.categorical_columns\n",
    "}\n",
    "\n",
    "joblib.dump(metadata, MODEL_PATH / \"metadata.pkl\")"
   ]
  },
  {
   "cell_type": "code",
   "execution_count": null,
   "id": "ce698c5d",
   "metadata": {},
   "outputs": [],
   "source": [
    "# predictor.py\n",
    "import joblib\n",
    "import numpy as np\n",
    "import pandas as pd\n",
    "from pathlib import Path\n",
    "\n",
    "class SalaryPredictor:\n",
    "    def __init__(self):\n",
    "        self.model = None\n",
    "        self.metadata = None\n",
    "        self.load_model()\n",
    "    \n",
    "    def load_model(self, model_path=\"models/salary_pipeline_v1.pkl\"):\n",
    "        self.model = joblib.load(model_path)\n",
    "        self.metadata = joblib.load(Path(model_path).parent / \"metadata.pkl\")\n",
    "    \n",
    "    def predict(self, input_data: dict) -> dict:\n",
    "        df = pd.DataFrame([input_data])\n",
    "        log_pred = self.model.predict(df)\n",
    "        return {\n",
    "            \"prediccion_log\": float(log_pred[0]),\n",
    "            \"salario_estimado\": float(np.expm1(log_pred[0])),\n",
    "            \"moneda\": \"MXN\",\n",
    "            \"version_modelo\": self.metadata[\"model_version\"]\n",
    "        }"
   ]
  },
  {
   "cell_type": "code",
   "execution_count": null,
   "id": "c8dcf839",
   "metadata": {},
   "outputs": [
    {
     "data": {
      "text/plain": [
       "<bound method Series.unique of 0                         100% remoto\n",
       "1                         100% remoto\n",
       "2                         100% remoto\n",
       "3                         100% remoto\n",
       "4                         100% remoto\n",
       "                    ...              \n",
       "3330    Híbrido (presencial y remoto)\n",
       "3331    Híbrido (presencial y remoto)\n",
       "3332                      100% remoto\n",
       "3333    Híbrido (presencial y remoto)\n",
       "3334    Híbrido (presencial y remoto)\n",
       "Name: modalidad_de_trabajo, Length: 3335, dtype: object>"
      ]
     },
     "execution_count": 21,
     "metadata": {},
     "output_type": "execute_result"
    }
   ],
   "source": [
    "df.modalidad_de_trabajo.unique"
   ]
  },
  {
   "cell_type": "code",
   "execution_count": 3,
   "id": "cb4f5a3b",
   "metadata": {},
   "outputs": [],
   "source": [
    "from app.data_models import SalaryRequest"
   ]
  },
  {
   "cell_type": "code",
   "execution_count": 4,
   "id": "657c1bcf",
   "metadata": {},
   "outputs": [],
   "source": [
    "# Input del usuario (mismo formato que espera la pipeline)\n",
    "user_data = {\n",
    "    'dedicacion': 'Full-Time',\n",
    "    'contrato': 'Contractor',\n",
    "    'cantidad_de_personas_en_tu_organizacion': 'De 201 a 500 personas',\n",
    "    'modalidad_de_trabajo': '100% remoto',\n",
    "    'seniority': 'Junior',\n",
    "    'marvin_rol': 2,\n",
    "    'anos_de_experiencia': 0,\n",
    "    'antiguedad_en_la_empresa_actual': 0,\n",
    "    'anos_en_el_puesto_actual': 1,\n",
    "    'cuantas_personas_tenes_a_cargo': 0,\n",
    "    'edad': 20\n",
    "}\n",
    "\n",
    "## Predicción\n",
    "#salario_predicho = predict_salary(user_data)\n",
    "#print(f\"Salario estimado: ${salario_predicho:,.2f} pesos\")"
   ]
  },
  {
   "cell_type": "code",
   "execution_count": 5,
   "id": "898d37ef",
   "metadata": {},
   "outputs": [],
   "source": [
    "sr = SalaryRequest.model_validate(user_data)"
   ]
  },
  {
   "cell_type": "code",
   "execution_count": 6,
   "id": "984f986e",
   "metadata": {},
   "outputs": [
    {
     "name": "stderr",
     "output_type": "stream",
     "text": [
      "/home/vscode/.local/share/virtualenvs/workspace-dqq3IVyd/lib/python3.12/site-packages/sklearn/pipeline.py:62: FutureWarning: This Pipeline instance is not fitted yet. Call 'fit' with appropriate arguments before using other methods such as transform, predict, etc. This will raise an error in 1.8 instead of the current warning.\n",
      "  warnings.warn(\n",
      "/home/vscode/.local/share/virtualenvs/workspace-dqq3IVyd/lib/python3.12/site-packages/sklearn/pipeline.py:62: FutureWarning: This Pipeline instance is not fitted yet. Call 'fit' with appropriate arguments before using other methods such as transform, predict, etc. This will raise an error in 1.8 instead of the current warning.\n",
      "  warnings.warn(\n"
     ]
    },
    {
     "data": {
      "text/plain": [
       "PredictionResponse(prediccion_log=13.956762528289618, salario_estimado=1151713.8093824012, moneda='ARS', version_modelo='1.0')"
      ]
     },
     "execution_count": 6,
     "metadata": {},
     "output_type": "execute_result"
    }
   ],
   "source": [
    "SalaryPredictor().predict(sr.model_dump())"
   ]
  }
 ],
 "metadata": {
  "kernelspec": {
   "display_name": "GET_YOUR_SALARY-sYgm8OCH",
   "language": "python",
   "name": "python3"
  },
  "language_info": {
   "codemirror_mode": {
    "name": "ipython",
    "version": 3
   },
   "file_extension": ".py",
   "mimetype": "text/x-python",
   "name": "python",
   "nbconvert_exporter": "python",
   "pygments_lexer": "ipython3",
   "version": "3.12.2"
  }
 },
 "nbformat": 4,
 "nbformat_minor": 5
}
