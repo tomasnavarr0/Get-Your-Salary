{
 "cells": [
  {
   "cell_type": "code",
   "execution_count": 1,
   "id": "7f045de8",
   "metadata": {},
   "outputs": [],
   "source": [
    "import os\n",
    "os.chdir(\"..\")"
   ]
  },
  {
   "cell_type": "code",
   "execution_count": 2,
   "id": "815a9d43",
   "metadata": {},
   "outputs": [],
   "source": [
    "from app.pipelines import SalaryPredictionPipeline\n",
    "from sklearn.ensemble import GradientBoostingRegressor"
   ]
  },
  {
   "cell_type": "code",
   "execution_count": 3,
   "id": "4c4110f0",
   "metadata": {},
   "outputs": [],
   "source": [
    "gbr = GradientBoostingRegressor(n_estimators=200, max_depth=3, subsample=0.6424202471887338, learning_rate=0.03102740950912839)"
   ]
  },
  {
   "cell_type": "code",
   "execution_count": 4,
   "id": "ae5abbc8",
   "metadata": {},
   "outputs": [
    {
     "ename": "AttributeError",
     "evalue": "'GradientBoostingRegressor' object has no attribute 'estimators_'",
     "output_type": "error",
     "traceback": [
      "\u001b[31m---------------------------------------------------------------------------\u001b[39m",
      "\u001b[31mAttributeError\u001b[39m                            Traceback (most recent call last)",
      "\u001b[36mCell\u001b[39m\u001b[36m \u001b[39m\u001b[32mIn[4]\u001b[39m\u001b[32m, line 2\u001b[39m\n\u001b[32m      1\u001b[39m pipeline = SalaryPredictionPipeline(gbr)\n\u001b[32m----> \u001b[39m\u001b[32m2\u001b[39m \u001b[43mpipeline\u001b[49m\u001b[43m.\u001b[49m\u001b[43mbuild_pipeline\u001b[49m\u001b[43m(\u001b[49m\u001b[43m)\u001b[49m\n",
      "\u001b[36mFile \u001b[39m\u001b[32m/workspace/app/pipelines/salary.py:59\u001b[39m, in \u001b[36mSalaryPredictionPipeline.build_pipeline\u001b[39m\u001b[34m(self)\u001b[39m\n\u001b[32m     45\u001b[39m org_size_pipeline = Pipeline(\n\u001b[32m     46\u001b[39m     [(\u001b[33m\"\u001b[39m\u001b[33mselector\u001b[39m\u001b[33m\"\u001b[39m, DataFrameSelector([\u001b[33m\"\u001b[39m\u001b[33mcantidad_de_personas_en_tu_organizacion\u001b[39m\u001b[33m\"\u001b[39m])), (\u001b[33m\"\u001b[39m\u001b[33mtransformer\u001b[39m\u001b[33m\"\u001b[39m, OrganizationSizeTransformer())]\n\u001b[32m     47\u001b[39m )\n\u001b[32m     49\u001b[39m preprocessor = ColumnTransformer(\n\u001b[32m     50\u001b[39m     transformers=[\n\u001b[32m     51\u001b[39m         (\u001b[33m\"\u001b[39m\u001b[33mnumerical\u001b[39m\u001b[33m\"\u001b[39m, numerical_pipeline, \u001b[38;5;28mself\u001b[39m.numerical_columns),\n\u001b[32m   (...)\u001b[39m\u001b[32m     56\u001b[39m     remainder=\u001b[33m\"\u001b[39m\u001b[33mdrop\u001b[39m\u001b[33m\"\u001b[39m,\n\u001b[32m     57\u001b[39m )\n\u001b[32m---> \u001b[39m\u001b[32m59\u001b[39m \u001b[38;5;28;01mif\u001b[39;00m \u001b[38;5;28mself\u001b[39m.model:\n\u001b[32m     60\u001b[39m     \u001b[38;5;28mself\u001b[39m.pipeline = Pipeline([(\u001b[33m\"\u001b[39m\u001b[33mpreprocessor\u001b[39m\u001b[33m\"\u001b[39m, preprocessor), (\u001b[33m\"\u001b[39m\u001b[33mmodel\u001b[39m\u001b[33m\"\u001b[39m, \u001b[38;5;28mself\u001b[39m.model)])\n\u001b[32m     61\u001b[39m \u001b[38;5;28;01melse\u001b[39;00m:\n",
      "\u001b[36mFile \u001b[39m\u001b[32m~/.local/share/virtualenvs/workspace-dqq3IVyd/lib/python3.12/site-packages/sklearn/ensemble/_base.py:154\u001b[39m, in \u001b[36mBaseEnsemble.__len__\u001b[39m\u001b[34m(self)\u001b[39m\n\u001b[32m    152\u001b[39m \u001b[38;5;28;01mdef\u001b[39;00m\u001b[38;5;250m \u001b[39m\u001b[34m__len__\u001b[39m(\u001b[38;5;28mself\u001b[39m):\n\u001b[32m    153\u001b[39m \u001b[38;5;250m    \u001b[39m\u001b[33;03m\"\"\"Return the number of estimators in the ensemble.\"\"\"\u001b[39;00m\n\u001b[32m--> \u001b[39m\u001b[32m154\u001b[39m     \u001b[38;5;28;01mreturn\u001b[39;00m \u001b[38;5;28mlen\u001b[39m(\u001b[38;5;28;43mself\u001b[39;49m\u001b[43m.\u001b[49m\u001b[43mestimators_\u001b[49m)\n",
      "\u001b[31mAttributeError\u001b[39m: 'GradientBoostingRegressor' object has no attribute 'estimators_'"
     ]
    }
   ],
   "source": [
    "pipeline = SalaryPredictionPipeline(gbr)\n",
    "pipeline.build_pipeline()\n",
    "\n"
   ]
  },
  {
   "cell_type": "code",
   "execution_count": null,
   "id": "834f3dfc",
   "metadata": {},
   "outputs": [],
   "source": []
  }
 ],
 "metadata": {
  "kernelspec": {
   "display_name": "workspace-dqq3IVyd",
   "language": "python",
   "name": "python3"
  },
  "language_info": {
   "codemirror_mode": {
    "name": "ipython",
    "version": 3
   },
   "file_extension": ".py",
   "mimetype": "text/x-python",
   "name": "python",
   "nbconvert_exporter": "python",
   "pygments_lexer": "ipython3",
   "version": "3.12.10"
  }
 },
 "nbformat": 4,
 "nbformat_minor": 5
}
