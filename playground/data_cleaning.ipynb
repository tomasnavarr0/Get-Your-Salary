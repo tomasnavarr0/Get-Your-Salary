{
 "cells": [
  {
   "cell_type": "code",
   "execution_count": null,
   "metadata": {},
   "outputs": [],
   "source": [
    "import os\n",
    "#os.chdir(\"..\")"
   ]
  },
  {
   "cell_type": "code",
   "execution_count": null,
   "metadata": {},
   "outputs": [],
   "source": [
    "import pandas as pd\n",
    "import matplotlib.pyplot as plt\n",
    "import seaborn as sns\n",
    "import marvin\n",
    "\n",
    "\n",
    "pd.set_option(\"display.max_columns\", None) "
   ]
  },
  {
   "cell_type": "markdown",
   "metadata": {},
   "source": [
    "## Cleaning Dataset"
   ]
  },
  {
   "cell_type": "code",
   "execution_count": null,
   "metadata": {},
   "outputs": [],
   "source": [
    "tech_salaries = pd.read_csv(\"data/salarios_tech.csv\", skiprows=9).drop(columns=[\"Unnamed: 0\"])"
   ]
  },
  {
   "cell_type": "code",
   "execution_count": null,
   "metadata": {},
   "outputs": [],
   "source": [
    "tech_salaries = tech_salaries.drop(columns=[\"pagos_en_dolares\", \"si_tu_sueldo_esta_dolarizado_cual_fue_el_ultimo_valor_del_dolar_que_tomaron\", \"recibis_algun_tipo_de_bono\", \"a_que_esta_atado_el_bono\", \"tuviste_actualizaciones_de_tus_ingresos_laborales_durante_2024\",\"salir_o_seguir_contestando_sobre_las_guardias\",\"tenes_guardias\",\"cuanto_cobras_por_guardia\",\"aclara_el_numero_que_ingresaste_en_el_campo_anterior\",\"como_consideras_que_estan_tus_ingresos_laborales_comparados_con_el_semestre_anterior\",\"contas_con_beneficios_adicionales\", \"que_tan_conforme_estas_con_tus_ingresos_laborales\",\"habias_respondido_nuestra_encuesta_en_ediciones_anteriores\",\"sueldo_dolarizado\",\"de_que_fue_el_ajuste_total_acumulado\",\"en_que_mes_fue_el_ultimo_ajuste\", \"estas_buscando_trabajo\", \"pluriempleo\", \"algo_que_quieras_decir_sobre_tu_trabajo\", \"salir_o_seguir_contestando\", \"la_recomendas_como_un_buen_lugar_para_trabajar\", \"que_tanto_estas_usando_copilotchatgpt_u_otras_herramientas_de_ia_para_tu_trabajo\", \"en_los_ultimos_6_mesesse_aplico_alguna_politica_de_ajustes_salariales\",\"si_trabajas_bajo_un_esquema_hibrido_cuantos_dias_a_la_semana_vas_a_la_oficina\",\"plataformas_que_utilizas_en_tu_puesto_actual\",\"frameworksherramientas_y_librerias_que_utilices_en_tu_puesto_actual\",\"bases_de_datos\",\"qa_testing\",\"opcionalen_que_empresaorganizacion_estas_trabajando\",\"maximo_nivel_de_estudios\",\"estado\",\"carrera\",\"institucion_educativa\",\"ultimo_salario_mensual_o_retiro_neto_en_pesos_argentinos\",\"_sal\"])"
   ]
  },
  {
   "cell_type": "code",
   "execution_count": null,
   "metadata": {},
   "outputs": [],
   "source": [
    "tech_salaries = tech_salaries.rename(columns={\"donde_estas_trabajando\":\"ubicacion\",\"tipo_de_contrato\": \"contrato\", \"ultimo_salario_mensual_o_retiro_bruto_en_pesos_argentinos\":\"salario\",\"trabajo_de\":\"rol\",\"lenguajes_de_programacion_o_tecnologias_que_utilices_en_tu_puesto_actual\":\"tecnologias\", \"tengo_edad\":\"edad\"})"
   ]
  },
  {
   "cell_type": "code",
   "execution_count": null,
   "metadata": {},
   "outputs": [],
   "source": [
    "tech_salaries"
   ]
  },
  {
   "cell_type": "code",
   "execution_count": null,
   "metadata": {},
   "outputs": [],
   "source": [
    "import pandas as pd\n",
    "\n",
    "# Calcular los límites de percentiles\n",
    "percentil_5 = tech_salaries[\"salario\"].quantile(0.05)\n",
    "percentil_95 = tech_salaries[\"salario\"].quantile(0.95)\n",
    "\n",
    "print(f\"Percentil 5 (límite inferior): {percentil_5}\")\n",
    "print(f\"Percentil 95 (límite superior): {percentil_95}\")\n",
    "\n",
    "# Filtrar el dataframe para eliminar outliers\n",
    "tech_salaries_filtered = tech_salaries[\n",
    "    (tech_salaries[\"salario\"] >= percentil_5) & \n",
    "    (tech_salaries[\"salario\"] <= percentil_95)\n",
    "]\n",
    "\n",
    "print(f\"\\nDataFrame original: {len(tech_salaries)} registros\")\n",
    "print(f\"DataFrame filtrado: {len(tech_salaries_filtered)} registros\")\n",
    "print(f\"Outliers eliminados: {len(tech_salaries) - len(tech_salaries_filtered)}\")"
   ]
  },
  {
   "cell_type": "code",
   "execution_count": null,
   "metadata": {},
   "outputs": [],
   "source": [
    "tech_salaries_filtered.to_csv(\"data/tech_salaries_filtered.csv\", index=False)"
   ]
  },
  {
   "cell_type": "code",
   "execution_count": null,
   "metadata": {},
   "outputs": [],
   "source": [
    "tech_salaries_filtered['rol'] = tech_salaries_filtered['rol'].replace({\n",
    "    'Technical Leader': 'Manager / Director',\n",
    "    'Manager / Director': 'Manager / Director'  # Opcional (redundante pero explícito)\n",
    "})\n"
   ]
  },
  {
   "cell_type": "code",
   "execution_count": null,
   "metadata": {},
   "outputs": [],
   "source": [
    "tech_salaries_filtered.loc[tech_salaries_filtered['rol'] == 'Manager / Director', 'seniority'] = 'Manager or Above'"
   ]
  },
  {
   "cell_type": "code",
   "execution_count": null,
   "metadata": {},
   "outputs": [],
   "source": [
    "tech_salaries_filtered = tech_salaries_filtered[tech_salaries_filtered['marvin_rol'] != 9]"
   ]
  },
  {
   "cell_type": "code",
   "execution_count": null,
   "metadata": {},
   "outputs": [],
   "source": [
    "tech_salaries_filtered.drop(columns=[\"rol\"], inplace=True)"
   ]
  },
  {
   "cell_type": "code",
   "execution_count": null,
   "metadata": {},
   "outputs": [],
   "source": [
    "tech_salaries_filtered.to_csv(\"data/tech_salaries_filtered_no_others.csv\", index=False)"
   ]
  },
  {
   "cell_type": "code",
   "execution_count": null,
   "metadata": {},
   "outputs": [],
   "source": [
    "tech_salaries_filtered.drop(columns=[\"ubicacion\",\"tecnologias\"], inplace=True)"
   ]
  },
  {
   "cell_type": "code",
   "execution_count": null,
   "metadata": {},
   "outputs": [],
   "source": [
    "for col in tech_salaries_filtered.select_dtypes(include='object').columns:\n",
    "    print(f\"{col}: {tech_salaries_filtered[col].nunique()} categorías\")"
   ]
  },
  {
   "cell_type": "code",
   "execution_count": null,
   "metadata": {},
   "outputs": [],
   "source": [
    "tech_salaries_filtered.to_csv(\"data/tech_salaries_filtered_no_others.csv\", index=False)"
   ]
  },
  {
   "cell_type": "code",
   "execution_count": null,
   "metadata": {},
   "outputs": [],
   "source": [
    "tech_salaries_filtered = pd.read_csv(\"/home/tomas/Escritorio/Proyectos/GET_YOUR_SALARY/data/tech_salaries_filtered_no_others.csv\")"
   ]
  },
  {
   "cell_type": "code",
   "execution_count": null,
   "metadata": {},
   "outputs": [],
   "source": [
    "tech_salaries_filtered.drop(columns=[\"genero\"], inplace=True)"
   ]
  },
  {
   "cell_type": "code",
   "execution_count": null,
   "metadata": {},
   "outputs": [],
   "source": [
    "tech_salaries_filtered"
   ]
  }
 ],
 "metadata": {
  "kernelspec": {
   "display_name": "GET_YOUR_SALARY-xnf8CYg6",
   "language": "python",
   "name": "python3"
  },
  "language_info": {
   "codemirror_mode": {
    "name": "ipython",
    "version": 3
   },
   "file_extension": ".py",
   "mimetype": "text/x-python",
   "name": "python",
   "nbconvert_exporter": "python",
   "pygments_lexer": "ipython3",
   "version": "3.12.3"
  }
 },
 "nbformat": 4,
 "nbformat_minor": 2
}
