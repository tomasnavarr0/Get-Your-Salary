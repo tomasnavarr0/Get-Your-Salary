{
 "cells": [
  {
   "cell_type": "code",
   "execution_count": 1,
   "id": "7f045de8",
   "metadata": {},
   "outputs": [],
   "source": [
    "import os\n",
    "os.chdir(\"..\")"
   ]
  },
  {
   "cell_type": "code",
   "execution_count": 2,
   "id": "815a9d43",
   "metadata": {},
   "outputs": [],
   "source": [
    "from app.pipelines import SalaryPredictionPipeline\n",
    "from sklearn.ensemble import GradientBoostingRegressor\n",
    "import pandas as pd\n",
    "import numpy as np\n",
    "import joblib\n",
    "from sklearn.model_selection import train_test_split\n",
    "from app.salary_predictor import SalaryPredictor"
   ]
  },
  {
   "cell_type": "code",
   "execution_count": 4,
   "id": "bea4ad5c",
   "metadata": {},
   "outputs": [],
   "source": [
    "df = pd.read_csv(r\"/workspace/data/tech_salaries_filtered_no_others.csv\")\n",
    "df['contrato'] = df['contrato'].replace({\n",
    "    'Tercerizado (trabajo a través de consultora o agencia)': 'Contractor',\n",
    "    'Freelance': 'Contractor',\n",
    "    \"Participación societaria en una cooperativa\": 'Contractor',\n",
    "})\n",
    "X = df.drop('salario', axis=1)\n",
    "y = df['salario']\n",
    "y_log = np.log1p(y)\n",
    "\n",
    "X_train, X_test, y_train, y_test = train_test_split(\n",
    "    X, y_log, test_size=0.15, random_state=42\n",
    ")"
   ]
  },
  {
   "cell_type": "code",
   "execution_count": null,
   "id": "735fac1c",
   "metadata": {},
   "outputs": [],
   "source": [
    "Mejores hiperparámetros: {'criterion': 'squared_error', 'learning_rate': 0.03, 'loss': 'squared_error', 'max_depth': 4, 'min_samples_split': 5, 'n_estimators': 300, 'n_iter_no_change': 10, 'subsample': 0.7, 'validation_fraction': 0.2"
   ]
  },
  {
   "cell_type": "code",
   "execution_count": null,
   "id": "4c4110f0",
   "metadata": {},
   "outputs": [],
   "source": [
    "gbr = GradientBoostingRegressor(n_estimators=300, max_depth=4, subsample=0.7, learning_rate=0.03, loss='squared_error', criterion='squared_error', min_samples_split=5, n_iter_no_change=10, validation_fraction=0.2)"
   ]
  },
  {
   "cell_type": "code",
   "execution_count": null,
   "id": "ae5abbc8",
   "metadata": {},
   "outputs": [
    {
     "data": {
      "text/plain": [
       "<app.pipelines.salary.SalaryPredictionPipeline at 0x7f649d0e0920>"
      ]
     },
     "execution_count": 16,
     "metadata": {},
     "output_type": "execute_result"
    }
   ],
   "source": [
    "gbr = GradientBoostingRegressor(n_estimators=300, max_depth=4, subsample=0.7, learning_rate=0.03, loss='squared_error', criterion='squared_error', min_samples_split=5, n_iter_no_change=10, validation_fraction=0.2)\n",
    "pipeline = SalaryPredictionPipeline(gbr)\n",
    "pipeline.build_pipeline()\n",
    "pipeline.fit(X_train, y_train)"
   ]
  },
  {
   "cell_type": "code",
   "execution_count": null,
   "id": "f8668f5c",
   "metadata": {},
   "outputs": [
    {
     "data": {
      "text/plain": [
       "['models/metadata.pkl']"
      ]
     },
     "execution_count": 17,
     "metadata": {},
     "output_type": "execute_result"
    }
   ],
   "source": [
    "import joblib\n",
    "from pathlib import Path\n",
    "gbr = GradientBoostingRegressor(n_estimators=300, max_depth=4, subsample=0.7, learning_rate=0.03, loss='squared_error', criterion='squared_error', min_samples_split=5, n_iter_no_change=10, validation_fraction=0.2)\n",
    "pipeline = SalaryPredictionPipeline(gbr)\n",
    "pipeline.build_pipeline()\n",
    "pipeline.fit(X_train, y_train)\n",
    "MODEL_PATH = Path(\"models\")\n",
    "MODEL_PATH.mkdir(exist_ok=True)\n",
    "\n",
    "joblib.dump(pipeline, MODEL_PATH / \"salary_pipeline_v1.pkl\")\n",
    "\n",
    "metadata = {\n",
    "    \"model_version\": \"1.0\",\n",
    "    \"training_date\": \"2025-04-18\",\n",
    "    \"features\": pipeline.numerical_columns + pipeline.categorical_columns\n",
    "}\n",
    "\n",
    "joblib.dump(metadata, MODEL_PATH / \"metadata.pkl\")"
   ]
  },
  {
   "cell_type": "code",
   "execution_count": null,
   "id": "8acdc5de",
   "metadata": {},
   "outputs": [],
   "source": []
  }
 ],
 "metadata": {
  "kernelspec": {
   "display_name": "GET_YOUR_SALARY-sYgm8OCH",
   "language": "python",
   "name": "python3"
  },
  "language_info": {
   "codemirror_mode": {
    "name": "ipython",
    "version": 3
   },
   "file_extension": ".py",
   "mimetype": "text/x-python",
   "name": "python",
   "nbconvert_exporter": "python",
   "pygments_lexer": "ipython3",
   "version": "3.12.2"
  }
 },
 "nbformat": 4,
 "nbformat_minor": 5
}
